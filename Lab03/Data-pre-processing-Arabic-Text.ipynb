{
  "nbformat": 4,
  "nbformat_minor": 0,
  "metadata": {
    "colab": {
      "name": "BigData_lab_03.ipynb",
      "provenance": [],
      "collapsed_sections": []
    },
    "kernelspec": {
      "name": "python3",
      "display_name": "Python 3"
    },
    "language_info": {
      "name": "python"
    }
  },
  "cells": [
    {
      "cell_type": "markdown",
      "source": [
        "**Lab 03**: **Data Pre-processing (Text)**"
      ],
      "metadata": {
        "id": "t2zfqkeb-56z"
      }
    },
    {
      "cell_type": "markdown",
      "source": [
        "- Arabic Sentiment Analysis Dataset:\n",
        "https://arxiv.org/abs/2011.00578"
      ],
      "metadata": {
        "id": "FZp_aSOe-92v"
      }
    },
    {
      "cell_type": "markdown",
      "source": [
        "#Imports"
      ],
      "metadata": {
        "id": "6vavBkagXy56"
      }
    },
    {
      "cell_type": "code",
      "execution_count": null,
      "metadata": {
        "id": "yOb88VgsqW3p"
      },
      "outputs": [],
      "source": [
        "import re\n",
        "import pandas as pd\n",
        "import matplotlib.pyplot as plt\n",
        "plt.style.use('ggplot')"
      ]
    },
    {
      "cell_type": "markdown",
      "source": [
        "#Read Data"
      ],
      "metadata": {
        "id": "a5RH3DeMX19l"
      }
    },
    {
      "cell_type": "code",
      "source": [
        "df = pd.read_csv(\"/content/sentiment_data.csv\")"
      ],
      "metadata": {
        "id": "GwRtTP-0LXWq"
      },
      "execution_count": null,
      "outputs": []
    },
    {
      "cell_type": "code",
      "source": [
        "df.head()"
      ],
      "metadata": {
        "colab": {
          "base_uri": "https://localhost:8080/",
          "height": 206
        },
        "id": "YAmfe6J1LbcN",
        "outputId": "475af1ec-2bcc-4b81-c584-246f2d7bb108"
      },
      "execution_count": null,
      "outputs": [
        {
          "output_type": "execute_result",
          "data": {
            "text/plain": [
              "                                                text sentiment\n",
              "0  @nas_alharbi8 والله حسب الأرقام سيكون مخيب للآ...  Positive\n",
              "1  \"الزعل بيغير ملامحك ، بيغير نظرة العين ، بيغير...   Neutral\n",
              "2  الحب الحقيقي هو اقتسام بعض نفسك مع شخص أخر أقر...  Positive\n",
              "3                          @Mo_Fat7 النهضة في فتيل 😂  Positive\n",
              "4  @halgawi @DmfMohe ليس حباً في ايران بقدر ماهو ...   Neutral"
            ],
            "text/html": [
              "\n",
              "  <div id=\"df-3d075e32-1d31-4b0f-a416-e8113c8519a9\">\n",
              "    <div class=\"colab-df-container\">\n",
              "      <div>\n",
              "<style scoped>\n",
              "    .dataframe tbody tr th:only-of-type {\n",
              "        vertical-align: middle;\n",
              "    }\n",
              "\n",
              "    .dataframe tbody tr th {\n",
              "        vertical-align: top;\n",
              "    }\n",
              "\n",
              "    .dataframe thead th {\n",
              "        text-align: right;\n",
              "    }\n",
              "</style>\n",
              "<table border=\"1\" class=\"dataframe\">\n",
              "  <thead>\n",
              "    <tr style=\"text-align: right;\">\n",
              "      <th></th>\n",
              "      <th>text</th>\n",
              "      <th>sentiment</th>\n",
              "    </tr>\n",
              "  </thead>\n",
              "  <tbody>\n",
              "    <tr>\n",
              "      <th>0</th>\n",
              "      <td>@nas_alharbi8 والله حسب الأرقام سيكون مخيب للآ...</td>\n",
              "      <td>Positive</td>\n",
              "    </tr>\n",
              "    <tr>\n",
              "      <th>1</th>\n",
              "      <td>\"الزعل بيغير ملامحك ، بيغير نظرة العين ، بيغير...</td>\n",
              "      <td>Neutral</td>\n",
              "    </tr>\n",
              "    <tr>\n",
              "      <th>2</th>\n",
              "      <td>الحب الحقيقي هو اقتسام بعض نفسك مع شخص أخر أقر...</td>\n",
              "      <td>Positive</td>\n",
              "    </tr>\n",
              "    <tr>\n",
              "      <th>3</th>\n",
              "      <td>@Mo_Fat7 النهضة في فتيل 😂</td>\n",
              "      <td>Positive</td>\n",
              "    </tr>\n",
              "    <tr>\n",
              "      <th>4</th>\n",
              "      <td>@halgawi @DmfMohe ليس حباً في ايران بقدر ماهو ...</td>\n",
              "      <td>Neutral</td>\n",
              "    </tr>\n",
              "  </tbody>\n",
              "</table>\n",
              "</div>\n",
              "      <button class=\"colab-df-convert\" onclick=\"convertToInteractive('df-3d075e32-1d31-4b0f-a416-e8113c8519a9')\"\n",
              "              title=\"Convert this dataframe to an interactive table.\"\n",
              "              style=\"display:none;\">\n",
              "        \n",
              "  <svg xmlns=\"http://www.w3.org/2000/svg\" height=\"24px\"viewBox=\"0 0 24 24\"\n",
              "       width=\"24px\">\n",
              "    <path d=\"M0 0h24v24H0V0z\" fill=\"none\"/>\n",
              "    <path d=\"M18.56 5.44l.94 2.06.94-2.06 2.06-.94-2.06-.94-.94-2.06-.94 2.06-2.06.94zm-11 1L8.5 8.5l.94-2.06 2.06-.94-2.06-.94L8.5 2.5l-.94 2.06-2.06.94zm10 10l.94 2.06.94-2.06 2.06-.94-2.06-.94-.94-2.06-.94 2.06-2.06.94z\"/><path d=\"M17.41 7.96l-1.37-1.37c-.4-.4-.92-.59-1.43-.59-.52 0-1.04.2-1.43.59L10.3 9.45l-7.72 7.72c-.78.78-.78 2.05 0 2.83L4 21.41c.39.39.9.59 1.41.59.51 0 1.02-.2 1.41-.59l7.78-7.78 2.81-2.81c.8-.78.8-2.07 0-2.86zM5.41 20L4 18.59l7.72-7.72 1.47 1.35L5.41 20z\"/>\n",
              "  </svg>\n",
              "      </button>\n",
              "      \n",
              "  <style>\n",
              "    .colab-df-container {\n",
              "      display:flex;\n",
              "      flex-wrap:wrap;\n",
              "      gap: 12px;\n",
              "    }\n",
              "\n",
              "    .colab-df-convert {\n",
              "      background-color: #E8F0FE;\n",
              "      border: none;\n",
              "      border-radius: 50%;\n",
              "      cursor: pointer;\n",
              "      display: none;\n",
              "      fill: #1967D2;\n",
              "      height: 32px;\n",
              "      padding: 0 0 0 0;\n",
              "      width: 32px;\n",
              "    }\n",
              "\n",
              "    .colab-df-convert:hover {\n",
              "      background-color: #E2EBFA;\n",
              "      box-shadow: 0px 1px 2px rgba(60, 64, 67, 0.3), 0px 1px 3px 1px rgba(60, 64, 67, 0.15);\n",
              "      fill: #174EA6;\n",
              "    }\n",
              "\n",
              "    [theme=dark] .colab-df-convert {\n",
              "      background-color: #3B4455;\n",
              "      fill: #D2E3FC;\n",
              "    }\n",
              "\n",
              "    [theme=dark] .colab-df-convert:hover {\n",
              "      background-color: #434B5C;\n",
              "      box-shadow: 0px 1px 3px 1px rgba(0, 0, 0, 0.15);\n",
              "      filter: drop-shadow(0px 1px 2px rgba(0, 0, 0, 0.3));\n",
              "      fill: #FFFFFF;\n",
              "    }\n",
              "  </style>\n",
              "\n",
              "      <script>\n",
              "        const buttonEl =\n",
              "          document.querySelector('#df-3d075e32-1d31-4b0f-a416-e8113c8519a9 button.colab-df-convert');\n",
              "        buttonEl.style.display =\n",
              "          google.colab.kernel.accessAllowed ? 'block' : 'none';\n",
              "\n",
              "        async function convertToInteractive(key) {\n",
              "          const element = document.querySelector('#df-3d075e32-1d31-4b0f-a416-e8113c8519a9');\n",
              "          const dataTable =\n",
              "            await google.colab.kernel.invokeFunction('convertToInteractive',\n",
              "                                                     [key], {});\n",
              "          if (!dataTable) return;\n",
              "\n",
              "          const docLinkHtml = 'Like what you see? Visit the ' +\n",
              "            '<a target=\"_blank\" href=https://colab.research.google.com/notebooks/data_table.ipynb>data table notebook</a>'\n",
              "            + ' to learn more about interactive tables.';\n",
              "          element.innerHTML = '';\n",
              "          dataTable['output_type'] = 'display_data';\n",
              "          await google.colab.output.renderOutput(dataTable, element);\n",
              "          const docLink = document.createElement('div');\n",
              "          docLink.innerHTML = docLinkHtml;\n",
              "          element.appendChild(docLink);\n",
              "        }\n",
              "      </script>\n",
              "    </div>\n",
              "  </div>\n",
              "  "
            ]
          },
          "metadata": {},
          "execution_count": 21
        }
      ]
    },
    {
      "cell_type": "code",
      "source": [
        "df.sentiment.value_counts()"
      ],
      "metadata": {
        "colab": {
          "base_uri": "https://localhost:8080/"
        },
        "id": "vU9KtJrbXcGF",
        "outputId": "b35be1e9-3273-45e4-9612-9d9b0f9a8c0a"
      },
      "execution_count": null,
      "outputs": [
        {
          "output_type": "execute_result",
          "data": {
            "text/plain": [
              "Neutral     37359\n",
              "Positive     8821\n",
              "Negative     8820\n",
              "Name: sentiment, dtype: int64"
            ]
          },
          "metadata": {},
          "execution_count": 22
        }
      ]
    },
    {
      "cell_type": "code",
      "source": [
        "fig = plt.figure()\n",
        "ax = fig.add_axes([0,0,1,1])\n",
        "Sentiments = ['Neutral', 'Positive', 'Negative']\n",
        "values = list(df.sentiment.value_counts())\n",
        "ax.bar(Sentiments,values,color = ['peachpuff','sandybrown','peru'],)\n",
        "plt.show()"
      ],
      "metadata": {
        "colab": {
          "base_uri": "https://localhost:8080/",
          "height": 335
        },
        "id": "ptq5sCaO5ItC",
        "outputId": "5e36e5fd-40bd-4b71-c54f-6c2b70c88e4c"
      },
      "execution_count": null,
      "outputs": [
        {
          "output_type": "display_data",
          "data": {
            "text/plain": [
              "<Figure size 432x288 with 1 Axes>"
            ],
            "image/png": "[encoded data removed]"
          },
          "metadata": {}
        }
      ]
    },
    {
      "cell_type": "markdown",
      "source": [
        "#Define The Preprocessing Class"
      ],
      "metadata": {
        "id": "WdHp7yMZX4zq"
      }
    },
    {
      "cell_type": "code",
      "source": [
        "class Preprocessing:\n",
        "  \"\"\"\n",
        "  A Preprocessor class that cleans and preprocesses text\n",
        "\n",
        "  \"\"\"\n",
        "\n",
        "  def remove_punct(tweet):\n",
        "    \"\"\"\n",
        "    takes an input text line and removes the punctuations from it.\n",
        "\n",
        "    Args:\n",
        "        tweet: input text string\n",
        "\n",
        "    Returns:\n",
        "        string: the preprocessed string after removing the punctuation\n",
        "    \"\"\"\n",
        "    punct_pattern = r\"[!\\\"\\$%\\'\\(\\)\\*\\+,\\.:;\\-<=·>?\\[\\\\\\]\\^_ـ`{\\|}~—٪’،؟`୍“؛”ۚ【»؛+«–…‘]\"\n",
        "    tweet = re.sub(punct_pattern,\"\",tweet)\n",
        "    return tweet\n",
        "\n",
        "\n",
        "  def remove_tashkeel(tweet):\n",
        "    \"\"\"\n",
        "    takes an input text line and removes the tashkeel from it.\n",
        "\n",
        "    Args:\n",
        "        tweet: input text string\n",
        "        \n",
        "    Returns:\n",
        "        string: the preprocessed string after removing the tashkeel\n",
        "    \"\"\"\n",
        "\n",
        "    Tashkeel_pattern = re.compile(\"\"\"\n",
        "                             ّ    | # Tashdid\n",
        "                             َ    | # Fatha\n",
        "                             ً    | # Tanwin Fath\n",
        "                             ُ    | # Damma\n",
        "                             ٌ    | # Tanwin Damm\n",
        "                             ِ    | # Kasra\n",
        "                             ٍ    | # Tanwin Kasr\n",
        "                             ْ    | # Sukun\n",
        "                             ـ     # Tatwil/Kashida\n",
        "                         \"\"\", re.VERBOSE)\n",
        "    tweet = re.sub(Tashkeel_pattern,\"\",tweet)\n",
        "    return tweet\n",
        "\n",
        "\n",
        "  def replacements(tweet):\n",
        "    \"\"\"\n",
        "    takes an input text line and replace some patterns with tokens\n",
        "\n",
        "    Args:\n",
        "      tweet: input text string\n",
        "      \n",
        "    Returns:\n",
        "      string: the preprocessed string after removing the patterns\n",
        "    \"\"\"\n",
        "\n",
        "    user_mention_regex = r\"@[\\w]+\"   # \\w matches word characters. A word character is a character a-z, A-Z, 0-9, including _ (underscore)\n",
        "    regex_email = r\"\\w+@\\w+\\.com\"\n",
        "    regex_phone_number = \"\\d{11}\"    # \\d digits from 0-9 , {} => means repeated exactly 11 times\n",
        "    hashtag_regex = r\"#[\\w]+\"\n",
        "\n",
        "    tweet  = re.sub(user_mention_regex,\"[مستخدم]\",tweet)\n",
        "    tweet  = re.sub(regex_email,\"[بريد]\",tweet)\n",
        "    tweet  = re.sub(regex_phone_number,\"[هاتف]\",tweet)\n",
        "    tweet  = re.sub(hashtag_regex,\"[هاشتاج]\",tweet)\n",
        "\n",
        "    return tweet\n",
        "\n",
        "\n",
        "  def normalize_tweets(tweet):\n",
        "    \"\"\"\n",
        "    takes an input text line and normalize it.\n",
        "\n",
        "    Args:\n",
        "      tweet: input text string\n",
        "      \n",
        "    Returns:\n",
        "      string: the preprocessed string after normalizing it\n",
        "    \"\"\"\n",
        "    tweet = re.sub(\"[إأآا]\", \"ا\", tweet)\n",
        "    tweet = re.sub(\"ى\", \"ي\", tweet)\n",
        "    tweet = re.sub(\"ؤ\", \"ء\", tweet)\n",
        "    tweet = re.sub(\"ئ\", \"ء\", tweet)\n",
        "    tweet = re.sub(\"ة\", \"ه\", tweet)\n",
        "    tweet = re.sub(\"گ\", \"ك\", tweet)\n",
        "    return tweet\n",
        "\n",
        "  def remove_newline(tweet):\n",
        "    \"\"\"\n",
        "    takes an input text line and removes \"\\n\".\n",
        "\n",
        "    Args:\n",
        "      tweet: input text string\n",
        "      \n",
        "    Returns:\n",
        "      string: the preprocessed string after removing \"\\n\"\n",
        "    \"\"\"\n",
        "    tweet = re.sub(\"\\n\",\" \",tweet)\n",
        "    return tweet\n"
      ],
      "metadata": {
        "id": "1fGzG43PuWfg"
      },
      "execution_count": null,
      "outputs": []
    },
    {
      "cell_type": "markdown",
      "source": [
        "#Test The Functions"
      ],
      "metadata": {
        "id": "xTRVXKCeWyd9"
      }
    },
    {
      "cell_type": "code",
      "source": [
        "test_text = \"\"\"لأول مره أفرح بدرجه في الكليه القمر ، اللي أنْا فيها \n",
        "دي فٌ الحمد لله! الحمد لله 01120330458 بجد 💕 💕 @DimaSadek\n",
        "\"\"\"\n",
        "print(test_text)"
      ],
      "metadata": {
        "colab": {
          "base_uri": "https://localhost:8080/"
        },
        "id": "cQaqi85RRpQh",
        "outputId": "b7823619-5584-4482-be84-9e7a35889305"
      },
      "execution_count": null,
      "outputs": [
        {
          "output_type": "stream",
          "name": "stdout",
          "text": [
            "لأول مره أفرح بدرجه في الكليه القمر ، اللي أنْا فيها \n",
            "دي فٌ الحمد لله! الحمد لله 01120330458 بجد 💕 💕 @DimaSadek\n",
            "\n"
          ]
        }
      ]
    },
    {
      "cell_type": "code",
      "source": [
        "x = Preprocessing.remove_punct(test_text)\n",
        "print(x)"
      ],
      "metadata": {
        "colab": {
          "base_uri": "https://localhost:8080/"
        },
        "id": "iHpcjUdXQPq1",
        "outputId": "9c6b6210-6351-41ac-d0d7-112b29c53c98"
      },
      "execution_count": null,
      "outputs": [
        {
          "output_type": "stream",
          "name": "stdout",
          "text": [
            "لأول مره أفرح بدرجه في الكليه القمر  اللي أنْا فيها \n",
            "دي فٌ الحمد لله الحمد لله 01120330458 بجد 💕 💕 @DimaSadek\n",
            "\n"
          ]
        }
      ]
    },
    {
      "cell_type": "code",
      "source": [
        "y = Preprocessing.remove_tashkeel(x)\n",
        "print(y)"
      ],
      "metadata": {
        "colab": {
          "base_uri": "https://localhost:8080/"
        },
        "id": "bSx4R1FFQdTv",
        "outputId": "e4e1768b-f809-4fec-96d9-719e7ba24e13"
      },
      "execution_count": null,
      "outputs": [
        {
          "output_type": "stream",
          "name": "stdout",
          "text": [
            "لأول مره أفرح بدرجه في الكليه القمر  اللي أنا فيها \n",
            "دي ف الحمد لله الحمد لله 01120330458 بجد 💕 💕 @DimaSadek\n",
            "\n"
          ]
        }
      ]
    },
    {
      "cell_type": "code",
      "source": [
        "z = Preprocessing.normalize_tweets(y)\n",
        "print(z)"
      ],
      "metadata": {
        "colab": {
          "base_uri": "https://localhost:8080/"
        },
        "id": "m6FInpSiQ_mp",
        "outputId": "5d0dc939-13a6-4f3d-9474-a0372b60dbc1"
      },
      "execution_count": null,
      "outputs": [
        {
          "output_type": "stream",
          "name": "stdout",
          "text": [
            "لاول مره افرح بدرجه في الكليه القمر  اللي انا فيها \n",
            "دي ف الحمد لله الحمد لله 01120330458 بجد 💕 💕 @DimaSadek\n",
            "\n"
          ]
        }
      ]
    },
    {
      "cell_type": "code",
      "source": [
        "v = Preprocessing.replacements(z)\n",
        "print(v)"
      ],
      "metadata": {
        "colab": {
          "base_uri": "https://localhost:8080/"
        },
        "id": "dWf3fAV1Wp38",
        "outputId": "2bf80a75-4b6e-4977-d05a-b7c479f235dc"
      },
      "execution_count": null,
      "outputs": [
        {
          "output_type": "stream",
          "name": "stdout",
          "text": [
            "لاول مره افرح بدرجه في الكليه القمر  اللي انا فيها \n",
            "دي ف الحمد لله الحمد لله [هاتف] بجد 💕 💕 [مستخدم]\n",
            "\n"
          ]
        }
      ]
    },
    {
      "cell_type": "code",
      "source": [
        "b = Preprocessing.remove_newline(v)\n",
        "print(b)"
      ],
      "metadata": {
        "colab": {
          "base_uri": "https://localhost:8080/"
        },
        "id": "W0-DrZZxaqnc",
        "outputId": "6844baf0-b8ac-4a51-fbf8-66766031c664"
      },
      "execution_count": null,
      "outputs": [
        {
          "output_type": "stream",
          "name": "stdout",
          "text": [
            "لاول مره افرح بدرجه في الكليه القمر  اللي انا فيها  دي ف الحمد لله الحمد لله [هاتف] بجد 💕 💕 [مستخدم] \n"
          ]
        }
      ]
    },
    {
      "cell_type": "markdown",
      "source": [
        "#Apply Functions on the Dataframe"
      ],
      "metadata": {
        "id": "fHDkLoOTXGjE"
      }
    },
    {
      "cell_type": "code",
      "source": [
        "df.text = df.text.apply(Preprocessing.remove_punct)\n",
        "df.text = df.text.apply(Preprocessing.remove_tashkeel)\n",
        "df.text = df.text.apply(Preprocessing.replacements)\n",
        "df.text = df.text.apply(Preprocessing.normalize_tweets)\n",
        "df.text = df.text.apply(Preprocessing.remove_newline)"
      ],
      "metadata": {
        "id": "1d0hJDVyOIDr"
      },
      "execution_count": null,
      "outputs": []
    },
    {
      "cell_type": "code",
      "source": [
        "df"
      ],
      "metadata": {
        "colab": {
          "base_uri": "https://localhost:8080/",
          "height": 423
        },
        "id": "m8KQViama4fO",
        "outputId": "245a3b49-fcbd-440d-80e7-cad9522d22a4"
      },
      "execution_count": null,
      "outputs": [
        {
          "output_type": "execute_result",
          "data": {
            "text/plain": [
              "                                                    text sentiment\n",
              "0      [مستخدم] والله حسب الارقام سيكون مخيب للامال و...  Positive\n",
              "1      الزعل بيغير ملامحك  بيغير نظره العين  بيغير شك...   Neutral\n",
              "2      الحب الحقيقي هو اقتسام بعض نفسك مع شخص اخر اقر...  Positive\n",
              "3                              [مستخدم] النهضه في فتيل 😂  Positive\n",
              "4      [مستخدم] [مستخدم] ليس حبا في ايران بقدر ماهو ن...   Neutral\n",
              "...                                                  ...       ...\n",
              "54996  [هاشتاج] بالامس تحدثونا عن الامانه واليوم يتم ...   Neutral\n",
              "54997  [مستخدم]  اتمني تحلون المشكله وش  يعني لما نلغ...   Neutral\n",
              "54998  [مستخدم] السلام عليكم   عندي استفسار يا الغالي...   Neutral\n",
              "54999  [مستخدم] حاب استفسر اذا منشاتي من ضمن المنشات ...   Neutral\n",
              "55000  [مستخدم] تقولون كلمونا علي شبكه التواصل ولا تر...   Neutral\n",
              "\n",
              "[55001 rows x 2 columns]"
            ],
            "text/html": [
              "\n",
              "  <div id=\"df-9c94be8f-b1f3-4d42-97a7-74268d866c58\">\n",
              "    <div class=\"colab-df-container\">\n",
              "      <div>\n",
              "<style scoped>\n",
              "    .dataframe tbody tr th:only-of-type {\n",
              "        vertical-align: middle;\n",
              "    }\n",
              "\n",
              "    .dataframe tbody tr th {\n",
              "        vertical-align: top;\n",
              "    }\n",
              "\n",
              "    .dataframe thead th {\n",
              "        text-align: right;\n",
              "    }\n",
              "</style>\n",
              "<table border=\"1\" class=\"dataframe\">\n",
              "  <thead>\n",
              "    <tr style=\"text-align: right;\">\n",
              "      <th></th>\n",
              "      <th>text</th>\n",
              "      <th>sentiment</th>\n",
              "    </tr>\n",
              "  </thead>\n",
              "  <tbody>\n",
              "    <tr>\n",
              "      <th>0</th>\n",
              "      <td>[مستخدم] والله حسب الارقام سيكون مخيب للامال و...</td>\n",
              "      <td>Positive</td>\n",
              "    </tr>\n",
              "    <tr>\n",
              "      <th>1</th>\n",
              "      <td>الزعل بيغير ملامحك  بيغير نظره العين  بيغير شك...</td>\n",
              "      <td>Neutral</td>\n",
              "    </tr>\n",
              "    <tr>\n",
              "      <th>2</th>\n",
              "      <td>الحب الحقيقي هو اقتسام بعض نفسك مع شخص اخر اقر...</td>\n",
              "      <td>Positive</td>\n",
              "    </tr>\n",
              "    <tr>\n",
              "      <th>3</th>\n",
              "      <td>[مستخدم] النهضه في فتيل 😂</td>\n",
              "      <td>Positive</td>\n",
              "    </tr>\n",
              "    <tr>\n",
              "      <th>4</th>\n",
              "      <td>[مستخدم] [مستخدم] ليس حبا في ايران بقدر ماهو ن...</td>\n",
              "      <td>Neutral</td>\n",
              "    </tr>\n",
              "    <tr>\n",
              "      <th>...</th>\n",
              "      <td>...</td>\n",
              "      <td>...</td>\n",
              "    </tr>\n",
              "    <tr>\n",
              "      <th>54996</th>\n",
              "      <td>[هاشتاج] بالامس تحدثونا عن الامانه واليوم يتم ...</td>\n",
              "      <td>Neutral</td>\n",
              "    </tr>\n",
              "    <tr>\n",
              "      <th>54997</th>\n",
              "      <td>[مستخدم]  اتمني تحلون المشكله وش  يعني لما نلغ...</td>\n",
              "      <td>Neutral</td>\n",
              "    </tr>\n",
              "    <tr>\n",
              "      <th>54998</th>\n",
              "      <td>[مستخدم] السلام عليكم   عندي استفسار يا الغالي...</td>\n",
              "      <td>Neutral</td>\n",
              "    </tr>\n",
              "    <tr>\n",
              "      <th>54999</th>\n",
              "      <td>[مستخدم] حاب استفسر اذا منشاتي من ضمن المنشات ...</td>\n",
              "      <td>Neutral</td>\n",
              "    </tr>\n",
              "    <tr>\n",
              "      <th>55000</th>\n",
              "      <td>[مستخدم] تقولون كلمونا علي شبكه التواصل ولا تر...</td>\n",
              "      <td>Neutral</td>\n",
              "    </tr>\n",
              "  </tbody>\n",
              "</table>\n",
              "<p>55001 rows × 2 columns</p>\n",
              "</div>\n",
              "      <button class=\"colab-df-convert\" onclick=\"convertToInteractive('df-9c94be8f-b1f3-4d42-97a7-74268d866c58')\"\n",
              "              title=\"Convert this dataframe to an interactive table.\"\n",
              "              style=\"display:none;\">\n",
              "        \n",
              "  <svg xmlns=\"http://www.w3.org/2000/svg\" height=\"24px\"viewBox=\"0 0 24 24\"\n",
              "       width=\"24px\">\n",
              "    <path d=\"M0 0h24v24H0V0z\" fill=\"none\"/>\n",
              "    <path d=\"M18.56 5.44l.94 2.06.94-2.06 2.06-.94-2.06-.94-.94-2.06-.94 2.06-2.06.94zm-11 1L8.5 8.5l.94-2.06 2.06-.94-2.06-.94L8.5 2.5l-.94 2.06-2.06.94zm10 10l.94 2.06.94-2.06 2.06-.94-2.06-.94-.94-2.06-.94 2.06-2.06.94z\"/><path d=\"M17.41 7.96l-1.37-1.37c-.4-.4-.92-.59-1.43-.59-.52 0-1.04.2-1.43.59L10.3 9.45l-7.72 7.72c-.78.78-.78 2.05 0 2.83L4 21.41c.39.39.9.59 1.41.59.51 0 1.02-.2 1.41-.59l7.78-7.78 2.81-2.81c.8-.78.8-2.07 0-2.86zM5.41 20L4 18.59l7.72-7.72 1.47 1.35L5.41 20z\"/>\n",
              "  </svg>\n",
              "      </button>\n",
              "      \n",
              "  <style>\n",
              "    .colab-df-container {\n",
              "      display:flex;\n",
              "      flex-wrap:wrap;\n",
              "      gap: 12px;\n",
              "    }\n",
              "\n",
              "    .colab-df-convert {\n",
              "      background-color: #E8F0FE;\n",
              "      border: none;\n",
              "      border-radius: 50%;\n",
              "      cursor: pointer;\n",
              "      display: none;\n",
              "      fill: #1967D2;\n",
              "      height: 32px;\n",
              "      padding: 0 0 0 0;\n",
              "      width: 32px;\n",
              "    }\n",
              "\n",
              "    .colab-df-convert:hover {\n",
              "      background-color: #E2EBFA;\n",
              "      box-shadow: 0px 1px 2px rgba(60, 64, 67, 0.3), 0px 1px 3px 1px rgba(60, 64, 67, 0.15);\n",
              "      fill: #174EA6;\n",
              "    }\n",
              "\n",
              "    [theme=dark] .colab-df-convert {\n",
              "      background-color: #3B4455;\n",
              "      fill: #D2E3FC;\n",
              "    }\n",
              "\n",
              "    [theme=dark] .colab-df-convert:hover {\n",
              "      background-color: #434B5C;\n",
              "      box-shadow: 0px 1px 3px 1px rgba(0, 0, 0, 0.15);\n",
              "      filter: drop-shadow(0px 1px 2px rgba(0, 0, 0, 0.3));\n",
              "      fill: #FFFFFF;\n",
              "    }\n",
              "  </style>\n",
              "\n",
              "      <script>\n",
              "        const buttonEl =\n",
              "          document.querySelector('#df-9c94be8f-b1f3-4d42-97a7-74268d866c58 button.colab-df-convert');\n",
              "        buttonEl.style.display =\n",
              "          google.colab.kernel.accessAllowed ? 'block' : 'none';\n",
              "\n",
              "        async function convertToInteractive(key) {\n",
              "          const element = document.querySelector('#df-9c94be8f-b1f3-4d42-97a7-74268d866c58');\n",
              "          const dataTable =\n",
              "            await google.colab.kernel.invokeFunction('convertToInteractive',\n",
              "                                                     [key], {});\n",
              "          if (!dataTable) return;\n",
              "\n",
              "          const docLinkHtml = 'Like what you see? Visit the ' +\n",
              "            '<a target=\"_blank\" href=https://colab.research.google.com/notebooks/data_table.ipynb>data table notebook</a>'\n",
              "            + ' to learn more about interactive tables.';\n",
              "          element.innerHTML = '';\n",
              "          dataTable['output_type'] = 'display_data';\n",
              "          await google.colab.output.renderOutput(dataTable, element);\n",
              "          const docLink = document.createElement('div');\n",
              "          docLink.innerHTML = docLinkHtml;\n",
              "          element.appendChild(docLink);\n",
              "        }\n",
              "      </script>\n",
              "    </div>\n",
              "  </div>\n",
              "  "
            ]
          },
          "metadata": {},
          "execution_count": 33
        }
      ]
    },
    {
      "cell_type": "markdown",
      "source": [
        "#Lab Task\n",
        "- Add a function to the previous class named **Remove_Emojis** which takes as an input a tweet and removes the emojis."
      ],
      "metadata": {
        "id": "0I1oCYZYHGb_"
      }
    }
  ]
}