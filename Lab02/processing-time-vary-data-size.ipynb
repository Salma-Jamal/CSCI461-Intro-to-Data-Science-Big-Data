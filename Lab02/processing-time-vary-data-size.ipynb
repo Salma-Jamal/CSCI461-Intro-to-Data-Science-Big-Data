{
  "nbformat": 4,
  "nbformat_minor": 0,
  "metadata": {
    "colab": {
      "name": "BigData_lab02.ipynb",
      "provenance": [],
      "collapsed_sections": []
    },
    "kernelspec": {
      "name": "python3",
      "display_name": "Python 3"
    },
    "language_info": {
      "name": "python"
    }
  },
  "cells": [
    {
      "cell_type": "markdown",
      "source": [
        "**Lab 02**"
      ],
      "metadata": {
        "id": "hOI_IGLnmEgI"
      }
    },
    {
      "cell_type": "markdown",
      "source": [
        "Due to the scale and heterogeneity of big data systems, significant challenges exist in the design, customization and operations on the data"
      ],
      "metadata": {
        "id": "akZ7t7GElxd7"
      }
    },
    {
      "cell_type": "markdown",
      "source": [
        "#Imports"
      ],
      "metadata": {
        "id": "NM_zMOdxhrE0"
      }
    },
    {
      "cell_type": "code",
      "source": [
        "import time\n",
        "import re"
      ],
      "metadata": {
        "id": "YAn2qO79etJ6"
      },
      "execution_count": 1,
      "outputs": []
    },
    {
      "cell_type": "markdown",
      "source": [
        "#Read Data"
      ],
      "metadata": {
        "id": "_bRPoGHhhuvX"
      }
    },
    {
      "cell_type": "code",
      "execution_count": 2,
      "metadata": {
        "id": "Qz_5nDd4lmtj"
      },
      "outputs": [],
      "source": [
        "Data = open(\"/content/AliceInWonderLandPart1.txt\",'r')"
      ]
    },
    {
      "cell_type": "code",
      "source": [
        "Data = Data.readlines()\n",
        "Data = [i.split(\"\\n\")[0] for i in Data]"
      ],
      "metadata": {
        "id": "wui0TJFSWUxW"
      },
      "execution_count": 3,
      "outputs": []
    },
    {
      "cell_type": "markdown",
      "source": [
        "#Operations"
      ],
      "metadata": {
        "id": "785_U58OhyiB"
      }
    },
    {
      "cell_type": "code",
      "source": [
        "def sentences_size(sentences):\n",
        "  \"\"\"\n",
        "  arrange sentences by its word count\n",
        "\n",
        "  Args:\n",
        "  - sentences: list of sentences\n",
        "\n",
        "  Returns:\n",
        "  - arrangedSentences: list of each sentence with its word count\n",
        "\n",
        "  \"\"\"\n",
        "  arrangedSentences = [] \n",
        "  for sentence in sentences:\n",
        "    wordCount = len(sentence.split())\n",
        "    arrangedSentences.append( (sentence,wordCount) )\n",
        "  arrangedSentences= sorted(arrangedSentences, key= lambda item: item[1], reverse=False)\n",
        "\n",
        "\n",
        "  return arrangedSentences"
      ],
      "metadata": {
        "id": "nGMpUo8UWejD"
      },
      "execution_count": 4,
      "outputs": []
    },
    {
      "cell_type": "code",
      "source": [
        "start_time=time.process_time()\n",
        "arrangedSentences = sentences_size(Data)\n",
        "end_time=time.process_time()\n",
        "\n",
        "print(\"Elapsed Time:\", end_time - start_time )\n",
        "arrangedSentences"
      ],
      "metadata": {
        "colab": {
          "base_uri": "https://localhost:8080/"
        },
        "id": "ruEeCM0ObtnE",
        "outputId": "e48b19bc-09a4-4dc3-c0de-6ba911b770f7"
      },
      "execution_count": 5,
      "outputs": [
        {
          "output_type": "stream",
          "name": "stdout",
          "text": [
            "Elapsed Time: 8.048199999999284e-05\n"
          ]
        },
        {
          "output_type": "execute_result",
          "data": {
            "text/plain": [
              "[('conversations?\"', 1),\n",
              " ('close by her.', 3),\n",
              " ('the hedge. In another moment, down went Alice after it!', 10),\n",
              " ('day made her feel very sleepy and stupid), whether the pleasure of', 12),\n",
              " ('making a daisy-chain would be worth the trouble of getting up and', 12),\n",
              " ('picking the daisies, when suddenly a White Rabbit with pink eyes ran', 12),\n",
              " ('book her sister was reading, but it had no pictures or conversations in',\n",
              "  13),\n",
              " ('out of its waistcoat-pocket and looked at it and then hurried on, Alice',\n",
              "  13),\n",
              " ('before seen a rabbit with either a waistcoat-pocket, or a watch to take',\n",
              "  13),\n",
              " ('out of it, and, burning with curiosity, she ran across the field after',\n",
              "  13),\n",
              " ('Alice was beginning to get very tired of sitting by her sister on the', 14),\n",
              " ('it, \"and what is the use of a book,\" thought Alice, \"without pictures or',\n",
              "  14),\n",
              " ('There was nothing so very remarkable in that, nor did Alice think it so',\n",
              "  14),\n",
              " ('dear! I shall be too late!\" But when the Rabbit actually took a watch', 14),\n",
              " ('started to her feet, for it flashed across her mind that she had never',\n",
              "  14),\n",
              " ('bank, and of having nothing to do. Once or twice she had peeped into the',\n",
              "  15),\n",
              " ('So she was considering in her own mind (as well as she could, for the', 15),\n",
              " ('it and was just in time to see it pop down a large rabbit-hole, under', 15),\n",
              " ('very much out of the way to hear the Rabbit say to itself, \"Oh dear! Oh',\n",
              "  16)]"
            ]
          },
          "metadata": {},
          "execution_count": 5
        }
      ]
    },
    {
      "cell_type": "code",
      "source": [
        "def WordCount(sentences):\n",
        "  \"\"\"\n",
        "  count of each word in the data\n",
        "\n",
        "  Args:\n",
        "  - sentences: list of sentences\n",
        "\n",
        "  Returns:\n",
        "  - word_count_list: list of each word with its count\n",
        "\n",
        "  \"\"\"\n",
        "  word_count_dict= {}\n",
        "  splited_sentences = [i.split() for i in sentences]\n",
        "  words = []\n",
        "\n",
        "  for sublist in splited_sentences:\n",
        "    for item in sublist:\n",
        "        words.append(item)\n",
        "\n",
        "  for word in words:\n",
        "    Count = words.count(word)\n",
        "    word_count_dict[word] = Count\n",
        "    \n",
        "  return word_count_dict"
      ],
      "metadata": {
        "id": "hniaeoMygB9p"
      },
      "execution_count": 6,
      "outputs": []
    },
    {
      "cell_type": "code",
      "source": [
        "start_time=time.process_time()\n",
        "word_count = WordCount(Data)\n",
        "end_time=time.process_time()\n",
        "\n",
        "print(\"Elapsed Time:\",end_time - start_time)\n",
        "word_count"
      ],
      "metadata": {
        "colab": {
          "base_uri": "https://localhost:8080/"
        },
        "id": "M4h1u_-aip2w",
        "outputId": "1b56723b-43c9-4935-a9e7-d4655b5dc02b"
      },
      "execution_count": 7,
      "outputs": [
        {
          "output_type": "stream",
          "name": "stdout",
          "text": [
            "Elapsed Time: 0.0017269109999999976\n"
          ]
        },
        {
          "output_type": "execute_result",
          "data": {
            "text/plain": [
              "{'\"Oh': 1,\n",
              " '\"and': 1,\n",
              " '\"without': 1,\n",
              " '(as': 1,\n",
              " 'Alice': 4,\n",
              " 'Alice,': 1,\n",
              " 'But': 1,\n",
              " 'I': 1,\n",
              " 'In': 1,\n",
              " 'Oh': 1,\n",
              " 'Once': 1,\n",
              " 'Rabbit': 3,\n",
              " 'So': 1,\n",
              " 'There': 1,\n",
              " 'White': 1,\n",
              " 'a': 8,\n",
              " 'across': 2,\n",
              " 'actually': 1,\n",
              " 'after': 2,\n",
              " 'and': 6,\n",
              " 'and,': 1,\n",
              " 'another': 1,\n",
              " 'as': 1,\n",
              " 'at': 1,\n",
              " 'bank,': 1,\n",
              " 'be': 2,\n",
              " 'before': 1,\n",
              " 'beginning': 1,\n",
              " 'book': 1,\n",
              " 'book,\"': 1,\n",
              " 'burning': 1,\n",
              " 'but': 1,\n",
              " 'by': 2,\n",
              " 'close': 1,\n",
              " 'considering': 1,\n",
              " 'conversations': 1,\n",
              " 'conversations?\"': 1,\n",
              " 'could,': 1,\n",
              " 'curiosity,': 1,\n",
              " 'daisies,': 1,\n",
              " 'daisy-chain': 1,\n",
              " 'day': 1,\n",
              " 'dear!': 2,\n",
              " 'did': 1,\n",
              " 'do.': 1,\n",
              " 'down': 2,\n",
              " 'either': 1,\n",
              " 'eyes': 1,\n",
              " 'feel': 1,\n",
              " 'feet,': 1,\n",
              " 'field': 1,\n",
              " 'flashed': 1,\n",
              " 'for': 2,\n",
              " 'get': 1,\n",
              " 'getting': 1,\n",
              " 'had': 3,\n",
              " 'having': 1,\n",
              " 'hear': 1,\n",
              " 'hedge.': 1,\n",
              " 'her': 6,\n",
              " 'her.': 1,\n",
              " 'hurried': 1,\n",
              " 'in': 4,\n",
              " 'into': 1,\n",
              " 'is': 1,\n",
              " 'it': 6,\n",
              " 'it!': 1,\n",
              " 'it,': 2,\n",
              " 'its': 1,\n",
              " 'itself,': 1,\n",
              " 'just': 1,\n",
              " 'large': 1,\n",
              " 'late!\"': 1,\n",
              " 'looked': 1,\n",
              " 'made': 1,\n",
              " 'making': 1,\n",
              " 'mind': 2,\n",
              " 'moment,': 1,\n",
              " 'much': 1,\n",
              " 'never': 1,\n",
              " 'no': 1,\n",
              " 'nor': 1,\n",
              " 'nothing': 2,\n",
              " 'of': 8,\n",
              " 'on': 1,\n",
              " 'on,': 1,\n",
              " 'or': 4,\n",
              " 'out': 3,\n",
              " 'own': 1,\n",
              " 'peeped': 1,\n",
              " 'picking': 1,\n",
              " 'pictures': 2,\n",
              " 'pink': 1,\n",
              " 'pleasure': 1,\n",
              " 'pop': 1,\n",
              " 'rabbit': 1,\n",
              " 'rabbit-hole,': 1,\n",
              " 'ran': 2,\n",
              " 'reading,': 1,\n",
              " 'remarkable': 1,\n",
              " 'say': 1,\n",
              " 'see': 1,\n",
              " 'seen': 1,\n",
              " 'shall': 1,\n",
              " 'she': 5,\n",
              " 'sister': 2,\n",
              " 'sitting': 1,\n",
              " 'sleepy': 1,\n",
              " 'so': 2,\n",
              " 'started': 1,\n",
              " 'stupid),': 1,\n",
              " 'suddenly': 1,\n",
              " 'take': 1,\n",
              " 'that': 1,\n",
              " 'that,': 1,\n",
              " 'the': 12,\n",
              " 'then': 1,\n",
              " 'think': 1,\n",
              " 'thought': 1,\n",
              " 'time': 1,\n",
              " 'tired': 1,\n",
              " 'to': 7,\n",
              " 'too': 1,\n",
              " 'took': 1,\n",
              " 'trouble': 1,\n",
              " 'twice': 1,\n",
              " 'under': 1,\n",
              " 'up': 1,\n",
              " 'use': 1,\n",
              " 'very': 4,\n",
              " 'waistcoat-pocket': 1,\n",
              " 'waistcoat-pocket,': 1,\n",
              " 'was': 5,\n",
              " 'watch': 2,\n",
              " 'way': 1,\n",
              " 'well': 1,\n",
              " 'went': 1,\n",
              " 'what': 1,\n",
              " 'when': 2,\n",
              " 'whether': 1,\n",
              " 'with': 3,\n",
              " 'worth': 1,\n",
              " 'would': 1}"
            ]
          },
          "metadata": {},
          "execution_count": 7
        }
      ]
    },
    {
      "cell_type": "code",
      "source": [
        "def Filter_words(sentences):\n",
        "  \"\"\"\n",
        "  Filter less frequent words\n",
        "\n",
        "  Args:\n",
        "  - sentences: list of sentences\n",
        "\n",
        "  Returns:\n",
        "  - Filtered_sentences: list of sentences without less frequent words\n",
        "\n",
        "  \"\"\"\n",
        "  words_dict = WordCount(sentences)\n",
        "  Filtered_sentences = []\n",
        "\n",
        "  for sentence in sentences:\n",
        "    splited_sen = sentence.split()\n",
        "    FilteredSen = [word for word in splited_sen if words_dict.get(word) > 1]\n",
        "    Filtered_sentences.append( ' '.join(FilteredSen) )\n",
        " \n",
        "\n",
        "  return Filtered_sentences"
      ],
      "metadata": {
        "id": "9a3zlvatiqbv"
      },
      "execution_count": 8,
      "outputs": []
    },
    {
      "cell_type": "code",
      "source": [
        "start_time=time.process_time()\n",
        "Sen_Filtered = Filter_words(Data)\n",
        "end_time=time.process_time()\n",
        "\n",
        "print(\"Elapsed Time:\",end_time - start_time)\n",
        "Sen_Filtered"
      ],
      "metadata": {
        "colab": {
          "base_uri": "https://localhost:8080/"
        },
        "id": "coyWppQQs70m",
        "outputId": "ef825129-6e71-4623-92d1-92c63e995474"
      },
      "execution_count": 9,
      "outputs": [
        {
          "output_type": "stream",
          "name": "stdout",
          "text": [
            "Elapsed Time: 0.0018599429999999195\n"
          ]
        },
        {
          "output_type": "execute_result",
          "data": {
            "text/plain": [
              "['Alice was to very of by her sister the',\n",
              " 'and of nothing to or she had the',\n",
              " 'her sister was it had pictures or in',\n",
              " 'it, the of a pictures or',\n",
              " '',\n",
              " 'she was in her mind she for the',\n",
              " 'her very and the of',\n",
              " 'a be the of and',\n",
              " 'the when a Rabbit with ran',\n",
              " 'by',\n",
              " 'was nothing so very in Alice it so',\n",
              " 'very out of the to the Rabbit to dear!',\n",
              " 'dear! be when the Rabbit a watch',\n",
              " 'out of and it and Alice',\n",
              " 'to her for it across her mind she had',\n",
              " 'a with a or a watch to',\n",
              " 'out of it, with she ran across the after',\n",
              " 'it and was in to it down a',\n",
              " 'the down Alice after']"
            ]
          },
          "metadata": {},
          "execution_count": 9
        }
      ]
    },
    {
      "cell_type": "code",
      "source": [
        "def removePunct(sentences):\n",
        "  \"\"\"\n",
        "  Remove Punctuations from words\n",
        "\n",
        "  Args:\n",
        "  - sentences: list of sentences\n",
        "\n",
        "  Returns:\n",
        "  - Filtered_sentences: list of sentences without Punctuation\n",
        "\n",
        "  \"\"\"\n",
        "  Filtered_sentences = []\n",
        "\n",
        "  for sentence in sentences:\n",
        "    FilteredSen = re.sub(r'[^\\w\\s]', '', sentence)\n",
        "    Filtered_sentences.append(FilteredSen)\n",
        " \n",
        "  return Filtered_sentences"
      ],
      "metadata": {
        "id": "Bgq9WQj3ypLP"
      },
      "execution_count": 10,
      "outputs": []
    },
    {
      "cell_type": "code",
      "source": [
        "start_time=time.process_time()\n",
        "Sen_Filtered = removePunct(Data)\n",
        "end_time=time.process_time()\n",
        "\n",
        "print(\"Elapsed Time:\",end_time - start_time)\n",
        "Sen_Filtered"
      ],
      "metadata": {
        "colab": {
          "base_uri": "https://localhost:8080/"
        },
        "id": "6QhrimwJ1JZQ",
        "outputId": "795ead75-1384-4995-ee4c-e0918d1bef76"
      },
      "execution_count": 11,
      "outputs": [
        {
          "output_type": "stream",
          "name": "stdout",
          "text": [
            "Elapsed Time: 0.0004908800000000824\n"
          ]
        },
        {
          "output_type": "execute_result",
          "data": {
            "text/plain": [
              "['Alice was beginning to get very tired of sitting by her sister on the',\n",
              " 'bank and of having nothing to do Once or twice she had peeped into the',\n",
              " 'book her sister was reading but it had no pictures or conversations in',\n",
              " 'it and what is the use of a book thought Alice without pictures or',\n",
              " 'conversations',\n",
              " 'So she was considering in her own mind as well as she could for the',\n",
              " 'day made her feel very sleepy and stupid whether the pleasure of',\n",
              " 'making a daisychain would be worth the trouble of getting up and',\n",
              " 'picking the daisies when suddenly a White Rabbit with pink eyes ran',\n",
              " 'close by her',\n",
              " 'There was nothing so very remarkable in that nor did Alice think it so',\n",
              " 'very much out of the way to hear the Rabbit say to itself Oh dear Oh',\n",
              " 'dear I shall be too late But when the Rabbit actually took a watch',\n",
              " 'out of its waistcoatpocket and looked at it and then hurried on Alice',\n",
              " 'started to her feet for it flashed across her mind that she had never',\n",
              " 'before seen a rabbit with either a waistcoatpocket or a watch to take',\n",
              " 'out of it and burning with curiosity she ran across the field after',\n",
              " 'it and was just in time to see it pop down a large rabbithole under',\n",
              " 'the hedge In another moment down went Alice after it']"
            ]
          },
          "metadata": {},
          "execution_count": 11
        }
      ]
    },
    {
      "cell_type": "markdown",
      "source": [
        "#**Task 1**\n",
        "- Remove stopwords\n",
        "- Use stopwords from StopWords.txt file"
      ],
      "metadata": {
        "id": "hYMWy9732LE5"
      }
    },
    {
      "cell_type": "code",
      "source": [
        "def RemoveStopWords(sentences):\n",
        "  \"\"\"\n",
        "  Removes stop words\n",
        "\n",
        "  Args:\n",
        "  - sentences: list of sentences\n",
        "\n",
        "  Returns:\n",
        "  - Filtered_sentences: list of sentences without stop words\n",
        "\n",
        "  \"\"\"\n",
        "  Filtered_sentences = []\n",
        "  sw = open('/content/StopWords.txt' , 'r')\n",
        "  sw = sw.readlines()\n",
        "  sw = [i.split('\\n')[0] for i in sw]\n",
        "\n",
        "  for sentence in sentences:\n",
        "    splited_sen = sentence.split()\n",
        "    FilteredSen = [word for word in splited_sen if word not in sw]\n",
        "    Filtered_sentences.append( ' '.join(FilteredSen) )  \n",
        "\n",
        "  return Filtered_sentences"
      ],
      "metadata": {
        "id": "C4tRKAw02Sz9"
      },
      "execution_count": 12,
      "outputs": []
    },
    {
      "cell_type": "code",
      "source": [
        "start_time=time.process_time()\n",
        "Sen_Filtered = RemoveStopWords(Data)\n",
        "end_time=time.process_time()\n",
        "\n",
        "print(\"Elapsed Time:\",end_time - start_time)\n",
        "Sen_Filtered"
      ],
      "metadata": {
        "id": "GHzi-3NU3Ju4",
        "colab": {
          "base_uri": "https://localhost:8080/"
        },
        "outputId": "6fa6ba9c-b1d0-44e0-9958-c3db6f2ca16a"
      },
      "execution_count": 13,
      "outputs": [
        {
          "output_type": "stream",
          "name": "stdout",
          "text": [
            "Elapsed Time: 0.00045349499999991494\n"
          ]
        },
        {
          "output_type": "execute_result",
          "data": {
            "text/plain": [
              "['Alice was beginning to get very tired sitting by her sister',\n",
              " 'bank, and having nothing to do. Once or twice she had peeped into',\n",
              " 'book her sister was reading, but it had no pictures or conversations',\n",
              " 'it, \"and what is use book,\" thought Alice, \"without pictures or',\n",
              " 'conversations?\"',\n",
              " 'So she was considering her own mind (as well as she could,',\n",
              " 'day made her feel very sleepy and stupid), whether pleasure',\n",
              " 'making daisy-chain would be worth trouble getting up and',\n",
              " 'picking daisies, when suddenly White Rabbit with pink eyes ran',\n",
              " 'close by her.',\n",
              " 'There was nothing very remarkable that, nor did Alice think it',\n",
              " 'very much out way to hear Rabbit say to itself, \"Oh dear! Oh',\n",
              " 'dear! I shall be too late!\" But when Rabbit actually took watch',\n",
              " 'out its waistcoat-pocket and looked at it and then hurried on, Alice',\n",
              " 'started to her feet, it flashed across her mind that she had never',\n",
              " 'before seen rabbit with either waistcoat-pocket, or watch to take',\n",
              " 'out it, and, burning with curiosity, she ran across field after',\n",
              " 'it and was just time to see it pop down large rabbit-hole, under',\n",
              " 'hedge. In another moment, down went Alice after it!']"
            ]
          },
          "metadata": {},
          "execution_count": 13
        }
      ]
    },
    {
      "cell_type": "markdown",
      "source": [
        "#**Task 2**\n",
        "- longestLines: Function to return longest 3 lines.\n",
        "- Apply **removePunct** , **RemoveStopWords** functions to the data before applying **LongestLines** function"
      ],
      "metadata": {
        "id": "EDG4OKje4HPt"
      }
    },
    {
      "cell_type": "code",
      "source": [
        "def LongestLines(sentences):\n",
        "  \"\"\"\n",
        "  Returns longest three sentences\n",
        "\n",
        "  Args:\n",
        "  - sentences: list of sentences\n",
        "\n",
        "  Returns:\n",
        "  - long_sentences: longest three sentences\n",
        "\n",
        "  \"\"\"\n",
        "  no_punct = removePunct(sentences)\n",
        "  no_sw = RemoveStopWords(no_punct)\n",
        "  arrangedSentences = sentences_size(no_sw)\n",
        "  long_sentences= sorted(arrangedSentences, key= lambda item: item[1], reverse=True)\n",
        "\n",
        "\n",
        "  return long_sentences[:3]"
      ],
      "metadata": {
        "id": "OcpXrHFR4J5l"
      },
      "execution_count": 18,
      "outputs": []
    },
    {
      "cell_type": "code",
      "source": [
        "start_time=time.process_time()\n",
        "long_sentences = LongestLines(Data)\n",
        "end_time=time.process_time()\n",
        "\n",
        "print(\"Elapsed Time:\",end_time - start_time)\n",
        "long_sentences"
      ],
      "metadata": {
        "id": "qK3N49tb6U7K",
        "colab": {
          "base_uri": "https://localhost:8080/"
        },
        "outputId": "c5566390-4490-4ea7-a828-f866628fa5c1"
      },
      "execution_count": 19,
      "outputs": [
        {
          "output_type": "stream",
          "name": "stdout",
          "text": [
            "Elapsed Time: 0.0006422610000003104\n"
          ]
        },
        {
          "output_type": "execute_result",
          "data": {
            "text/plain": [
              "[('bank and having nothing to do Once or twice she had peeped into', 13),\n",
              " ('very much out way to hear Rabbit say to itself Oh dear Oh', 13),\n",
              " ('started to her feet it flashed across her mind that she had never', 13)]"
            ]
          },
          "metadata": {},
          "execution_count": 19
        }
      ]
    }
  ]
}