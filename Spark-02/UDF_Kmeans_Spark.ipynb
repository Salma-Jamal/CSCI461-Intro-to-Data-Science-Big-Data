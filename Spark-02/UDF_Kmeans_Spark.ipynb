{
  "nbformat": 4,
  "nbformat_minor": 0,
  "metadata": {
    "colab": {
      "name": "UDF_Kmeans_Spark.ipynb",
      "provenance": [],
      "collapsed_sections": [],
      "authorship_tag": "ABX9TyOQcJahGjMhgVHwhL+/Z2VE"
    },
    "kernelspec": {
      "name": "python3",
      "display_name": "Python 3"
    },
    "language_info": {
      "name": "python"
    }
  },
  "cells": [
    {
      "cell_type": "code",
      "execution_count": 1,
      "metadata": {
        "id": "rdihmZl2nJ1Q"
      },
      "outputs": [],
      "source": [
        "!pip install Pyspark\n",
        "!pip install nltk"
      ]
    },
    {
      "cell_type": "code",
      "source": [
        "from pyspark.sql import SparkSession\n",
        "from pyspark.sql import functions as F\n",
        "import pandas as pd\n",
        "from nltk.corpus import stopwords\n",
        "from nltk.tokenize import word_tokenize\n",
        "import nltk\n",
        "nltk.download('stopwords')\n",
        "from pyspark.ml.feature import VectorAssembler"
      ],
      "metadata": {
        "id": "xdFGGkA1ntKS"
      },
      "execution_count": null,
      "outputs": []
    },
    {
      "cell_type": "code",
      "source": [
        "spark = SparkSession.builder.appName(\"Spark Examples\").getOrCreate()"
      ],
      "metadata": {
        "id": "zVNjpHqknwkX"
      },
      "execution_count": 3,
      "outputs": []
    },
    {
      "cell_type": "markdown",
      "source": [
        "# Apply a predefined Function on Your Dataframe Columns"
      ],
      "metadata": {
        "id": "jEo8FkoL9vQU"
      }
    },
    {
      "cell_type": "code",
      "source": [
        "data = spark.read.format(\"csv\")\\\n",
        "            .option(\"header\", \"true\")\\\n",
        "            .load(\"/content/Tweets.csv\")"
      ],
      "metadata": {
        "id": "gTY-yflin9NV"
      },
      "execution_count": 4,
      "outputs": []
    },
    {
      "cell_type": "code",
      "source": [
        "data.show(5)"
      ],
      "metadata": {
        "colab": {
          "base_uri": "https://localhost:8080/"
        },
        "id": "UNxtoxjinbbV",
        "outputId": "a72167d8-430f-44e9-98a8-63a2e7865967"
      },
      "execution_count": 5,
      "outputs": [
        {
          "output_type": "stream",
          "name": "stdout",
          "text": [
            "+-----+--------------------+\n",
            "|   id|               tweet|\n",
            "+-----+--------------------+\n",
            "|31963|#studiolife #aisl...|\n",
            "|31964| @user #white #su...|\n",
            "|31965|safe ways to heal...|\n",
            "|31966|is the hp and the...|\n",
            "|31967|  3rd #bihday to ...|\n",
            "+-----+--------------------+\n",
            "only showing top 5 rows\n",
            "\n"
          ]
        }
      ]
    },
    {
      "cell_type": "markdown",
      "source": [
        "##Pyspark User Defined Functions\n",
        "https://sparkbyexamples.com/pyspark/pyspark-udf-user-defined-function/"
      ],
      "metadata": {
        "id": "VyAzeJRRwXID"
      }
    },
    {
      "cell_type": "markdown",
      "source": [
        "**Make a function that removes stopwords from tweet column**"
      ],
      "metadata": {
        "id": "jYIkhriABcYC"
      }
    },
    {
      "cell_type": "code",
      "source": [
        "def remove_stopwords(tweet):\n",
        "  stop = set(stopwords.words('english'))\n",
        "  split_tweet = tweet.split()\n",
        "  cleaned_tweet = [word for word in split_tweet if word not in stop]\n",
        "  cleaned_tweet = \" \".join([word for word in cleaned_tweet if word !=\"@user\"])\n",
        "  return cleaned_tweet"
      ],
      "metadata": {
        "id": "EDoPxFuIKDhO"
      },
      "execution_count": 6,
      "outputs": []
    },
    {
      "cell_type": "code",
      "source": [
        "# test function ouput\n",
        "remove_stopwords(\"Hello I am in my house @user\")"
      ],
      "metadata": {
        "colab": {
          "base_uri": "https://localhost:8080/",
          "height": 36
        },
        "id": "B1b8iXjqKXBL",
        "outputId": "f937dbc6-7fe1-49ad-92c7-73db73378f8a"
      },
      "execution_count": 7,
      "outputs": [
        {
          "output_type": "execute_result",
          "data": {
            "text/plain": [
              "'Hello I house'"
            ],
            "application/vnd.google.colaboratory.intrinsic+json": {
              "type": "string"
            }
          },
          "metadata": {},
          "execution_count": 7
        }
      ]
    },
    {
      "cell_type": "code",
      "source": [
        "# Convert your Python function to PySpark UDF (User defined Function)\n",
        "removeStopwords = F.udf(remove_stopwords)"
      ],
      "metadata": {
        "id": "5CPdYUwfKowB"
      },
      "execution_count": 8,
      "outputs": []
    },
    {
      "cell_type": "code",
      "source": [
        "# Now add the new column to your Dataframe\n",
        "data = data.withColumn(\"tweetCleaned\", removeStopwords(data.tweet))"
      ],
      "metadata": {
        "id": "d_dgX0fXKyDf"
      },
      "execution_count": 9,
      "outputs": []
    },
    {
      "cell_type": "code",
      "source": [
        "data.show()"
      ],
      "metadata": {
        "colab": {
          "base_uri": "https://localhost:8080/"
        },
        "id": "mMtVPREELIGr",
        "outputId": "8db68753-45cd-4527-b361-37e625f75b94"
      },
      "execution_count": 10,
      "outputs": [
        {
          "output_type": "stream",
          "name": "stdout",
          "text": [
            "+-----+--------------------+--------------------+\n",
            "|   id|               tweet|        tweetCleaned|\n",
            "+-----+--------------------+--------------------+\n",
            "|31963|#studiolife #aisl...|#studiolife #aisl...|\n",
            "|31964| @user #white #su...|#white #supremaci...|\n",
            "|31965|safe ways to heal...|safe ways heal #a...|\n",
            "|31966|is the hp and the...|hp cursed child b...|\n",
            "|31967|  3rd #bihday to ...|3rd #bihday amazi...|\n",
            "|31968|choose to be   :)...|  choose :) #momtips|\n",
            "|31969|something inside ...|something inside ...|\n",
            "|31970|#finished#tattoo#...|#finished#tattoo#...|\n",
            "|31971| @user @user @use...|never understand ...|\n",
            "|31972|#delicious   #foo...|#delicious #food ...|\n",
            "|31973|1000dayswasted - ...|1000dayswasted - ...|\n",
            "|31974|one of the world'...|one world's great...|\n",
            "|31975|half way through ...|half way website ...|\n",
            "|31976|good food, good l...|good food, good l...|\n",
            "|31977|i'll stand behind...|i'll stand behind...|\n",
            "|31978|i ate,i ate and i...|ate,i ate ate...ð...|\n",
            "|31979| @user got my @us...|got limited editi...|\n",
            "|31980|&amp; #love &amp;...|&amp; #love &amp;...|\n",
            "|31981|ð­ðð #gir...|ð­ðð #gir...|\n",
            "|31982|thought factory: ...|thought factory: ...|\n",
            "+-----+--------------------+--------------------+\n",
            "only showing top 20 rows\n",
            "\n"
          ]
        }
      ]
    },
    {
      "cell_type": "code",
      "source": [
        "# drop the old tweet column\n",
        "data = data.drop(\"tweet\")"
      ],
      "metadata": {
        "id": "EI-25z74LjbL"
      },
      "execution_count": 11,
      "outputs": []
    },
    {
      "cell_type": "code",
      "source": [
        "data.show()"
      ],
      "metadata": {
        "colab": {
          "base_uri": "https://localhost:8080/"
        },
        "id": "NisngdCKMEEF",
        "outputId": "d6678708-3f69-460a-a53d-d1e6f3c432f4"
      },
      "execution_count": 12,
      "outputs": [
        {
          "output_type": "stream",
          "name": "stdout",
          "text": [
            "+-----+--------------------+\n",
            "|   id|        tweetCleaned|\n",
            "+-----+--------------------+\n",
            "|31963|#studiolife #aisl...|\n",
            "|31964|#white #supremaci...|\n",
            "|31965|safe ways heal #a...|\n",
            "|31966|hp cursed child b...|\n",
            "|31967|3rd #bihday amazi...|\n",
            "|31968|  choose :) #momtips|\n",
            "|31969|something inside ...|\n",
            "|31970|#finished#tattoo#...|\n",
            "|31971|never understand ...|\n",
            "|31972|#delicious #food ...|\n",
            "|31973|1000dayswasted - ...|\n",
            "|31974|one world's great...|\n",
            "|31975|half way website ...|\n",
            "|31976|good food, good l...|\n",
            "|31977|i'll stand behind...|\n",
            "|31978|ate,i ate ate...ð...|\n",
            "|31979|got limited editi...|\n",
            "|31980|&amp; #love &amp;...|\n",
            "|31981|ð­ðð #gir...|\n",
            "|31982|thought factory: ...|\n",
            "+-----+--------------------+\n",
            "only showing top 20 rows\n",
            "\n"
          ]
        }
      ]
    },
    {
      "cell_type": "markdown",
      "source": [
        "**Function to apply word count on tweet column**"
      ],
      "metadata": {
        "id": "GWwEujCgM2Bu"
      }
    },
    {
      "cell_type": "code",
      "source": [
        "def word_count_column(tweet):\n",
        "  split_tweet = tweet.split()\n",
        "  dic_of_words = {}\n",
        "  for word in split_tweet:\n",
        "    dic_of_words[word] = split_tweet.count(word)\n",
        "  return dic_of_words"
      ],
      "metadata": {
        "id": "drAq7OQjqiJR"
      },
      "execution_count": 13,
      "outputs": []
    },
    {
      "cell_type": "code",
      "source": [
        "word_count_column(\"a set of words that is complete in itself, typically containing a subject and predicate, conveying a statement, question, exclamation, or command, and consisting of a main clause and sometimes one or more subordinate clauses.\")"
      ],
      "metadata": {
        "colab": {
          "base_uri": "https://localhost:8080/"
        },
        "id": "u7HvdENuqrxn",
        "outputId": "559856ec-8a2d-4ff8-dbd6-eb15e381f46f"
      },
      "execution_count": 14,
      "outputs": [
        {
          "output_type": "execute_result",
          "data": {
            "text/plain": [
              "{'a': 4,\n",
              " 'and': 3,\n",
              " 'clause': 1,\n",
              " 'clauses.': 1,\n",
              " 'command,': 1,\n",
              " 'complete': 1,\n",
              " 'consisting': 1,\n",
              " 'containing': 1,\n",
              " 'conveying': 1,\n",
              " 'exclamation,': 1,\n",
              " 'in': 1,\n",
              " 'is': 1,\n",
              " 'itself,': 1,\n",
              " 'main': 1,\n",
              " 'more': 1,\n",
              " 'of': 2,\n",
              " 'one': 1,\n",
              " 'or': 2,\n",
              " 'predicate,': 1,\n",
              " 'question,': 1,\n",
              " 'set': 1,\n",
              " 'sometimes': 1,\n",
              " 'statement,': 1,\n",
              " 'subject': 1,\n",
              " 'subordinate': 1,\n",
              " 'that': 1,\n",
              " 'typically': 1,\n",
              " 'words': 1}"
            ]
          },
          "metadata": {},
          "execution_count": 14
        }
      ]
    },
    {
      "cell_type": "code",
      "source": [
        "# Convert your Python function to PySpark UDF (User defined Function)\n",
        "countWords = F.udf(word_count_column)"
      ],
      "metadata": {
        "id": "NrS3-BgBpcw_"
      },
      "execution_count": 15,
      "outputs": []
    },
    {
      "cell_type": "code",
      "source": [
        "# Now add the new column to your Dataframe\n",
        "data = data.withColumn(\"WordCount\", countWords(data.tweetCleaned))"
      ],
      "metadata": {
        "id": "wmu1iSSxpqq0"
      },
      "execution_count": 16,
      "outputs": []
    },
    {
      "cell_type": "code",
      "source": [
        "data.show()"
      ],
      "metadata": {
        "colab": {
          "base_uri": "https://localhost:8080/"
        },
        "id": "e9AKkMvdqD75",
        "outputId": "6109c0e9-3da8-4988-c9ae-da3a9fcaa037"
      },
      "execution_count": 17,
      "outputs": [
        {
          "output_type": "stream",
          "name": "stdout",
          "text": [
            "+-----+--------------------+--------------------+\n",
            "|   id|        tweetCleaned|           WordCount|\n",
            "+-----+--------------------+--------------------+\n",
            "|31963|#studiolife #aisl...|{#willpower=1, fi...|\n",
            "|31964|#white #supremaci...|{#movie=1, new=1,...|\n",
            "|31965|safe ways heal #a...|{ways=1, #healing...|\n",
            "|31966|hp cursed child b...|{#harrypotter=1, ...|\n",
            "|31967|3rd #bihday amazi...|{ahmir!=1, misses...|\n",
            "|31968|  choose :) #momtips|{#momtips=1, choo...|\n",
            "|31969|something inside ...|{ð¦ð¿â¨=1, #...|\n",
            "|31970|#finished#tattoo#...|{!!!=1, #finished...|\n",
            "|31971|never understand ...|{never=1, young.....|\n",
            "|31972|#delicious #food ...|{mannaepicure=1, ...|\n",
            "|31973|1000dayswasted - ...|{bass=1, ep..=1, ...|\n",
            "|31974|one world's great...|{#teamaudi=1, wor...|\n",
            "|31975|half way website ...|{#allgoingwell=1,...|\n",
            "|31976|good food, good l...|{called=1, #enjoy...|\n",
            "|31977|i'll stand behind...|{#taketheguns=1, ...|\n",
            "|31978|ate,i ate ate...ð...|{#hilsa=1, ate,i=...|\n",
            "|31979|got limited editi...|{!=1, rain=1, set...|\n",
            "|31980|&amp; #love &amp;...|{#kisses=1, #baby...|\n",
            "|31981|ð­ðð #gir...|{@=1, #fave=1, ð...|\n",
            "|31982|thought factory: ...|{bbc=1, &gt;3=1, ...|\n",
            "+-----+--------------------+--------------------+\n",
            "only showing top 20 rows\n",
            "\n"
          ]
        }
      ]
    },
    {
      "cell_type": "markdown",
      "source": [
        "**Apply Edits on your Function to Give you the most repeated word**"
      ],
      "metadata": {
        "id": "31j-P3-8tLpl"
      }
    },
    {
      "cell_type": "code",
      "source": [
        "def Most_repeated_word(tweet):\n",
        "  split_tweet = tweet.split()\n",
        "  dic_of_words = {}\n",
        "  for word in split_tweet:\n",
        "    dic_of_words[word] = split_tweet.count(word)\n",
        "  Most_repeated = max(dic_of_words, key=dic_of_words.get,default=0)\n",
        "  return Most_repeated"
      ],
      "metadata": {
        "id": "bb9u6aZotJr2"
      },
      "execution_count": 18,
      "outputs": []
    },
    {
      "cell_type": "code",
      "source": [
        "Most_repeated_word(\"containing a subject and predicate, subject subject subject conveying a statement,\")"
      ],
      "metadata": {
        "colab": {
          "base_uri": "https://localhost:8080/",
          "height": 36
        },
        "id": "Va4GMbZ2tsRZ",
        "outputId": "56374494-5363-4686-b9b4-a03df7c2233f"
      },
      "execution_count": 19,
      "outputs": [
        {
          "output_type": "execute_result",
          "data": {
            "text/plain": [
              "'subject'"
            ],
            "application/vnd.google.colaboratory.intrinsic+json": {
              "type": "string"
            }
          },
          "metadata": {},
          "execution_count": 19
        }
      ]
    },
    {
      "cell_type": "code",
      "source": [
        "repeated_word = F.udf(Most_repeated_word)\n",
        "data = data.withColumn(\"mostRepeatedWord\", repeated_word(data.tweetCleaned))"
      ],
      "metadata": {
        "id": "KL6s4_0_twhr"
      },
      "execution_count": 20,
      "outputs": []
    },
    {
      "cell_type": "code",
      "source": [
        "data.show()"
      ],
      "metadata": {
        "colab": {
          "base_uri": "https://localhost:8080/"
        },
        "id": "Kqh2XTpkuF51",
        "outputId": "fc408e92-e618-49f9-cb58-ac710344fa76"
      },
      "execution_count": 21,
      "outputs": [
        {
          "output_type": "stream",
          "name": "stdout",
          "text": [
            "+-----+--------------------+--------------------+--------------------+\n",
            "|   id|        tweetCleaned|           WordCount|    mostRepeatedWord|\n",
            "+-----+--------------------+--------------------+--------------------+\n",
            "|31963|#studiolife #aisl...|{#willpower=1, fi...|         #studiolife|\n",
            "|31964|#white #supremaci...|{#movie=1, new=1,...|              #white|\n",
            "|31965|safe ways heal #a...|{ways=1, #healing...|                safe|\n",
            "|31966|hp cursed child b...|{#harrypotter=1, ...|                  hp|\n",
            "|31967|3rd #bihday amazi...|{ahmir!=1, misses...|                 3rd|\n",
            "|31968|  choose :) #momtips|{#momtips=1, choo...|              choose|\n",
            "|31969|something inside ...|{ð¦ð¿â¨=1, #...|           something|\n",
            "|31970|#finished#tattoo#...|{!!!=1, #finished...|#finished#tattoo#...|\n",
            "|31971|never understand ...|{never=1, young.....|               never|\n",
            "|31972|#delicious #food ...|{mannaepicure=1, ...|          #delicious|\n",
            "|31973|1000dayswasted - ...|{bass=1, ep..=1, ...|      1000dayswasted|\n",
            "|31974|one world's great...|{#teamaudi=1, wor...|                 one|\n",
            "|31975|half way website ...|{#allgoingwell=1,...|                half|\n",
            "|31976|good food, good l...|{called=1, #enjoy...|                good|\n",
            "|31977|i'll stand behind...|{#taketheguns=1, ...|                i'll|\n",
            "|31978|ate,i ate ate...ð...|{#hilsa=1, ate,i=...|               ate,i|\n",
            "|31979|got limited editi...|{!=1, rain=1, set...|                 got|\n",
            "|31980|&amp; #love &amp;...|{#kisses=1, #baby...|               &amp;|\n",
            "|31981|ð­ðð #gir...|{@=1, #fave=1, ð...|        ð­ðð|\n",
            "|31982|thought factory: ...|{bbc=1, &gt;3=1, ...|             thought|\n",
            "+-----+--------------------+--------------------+--------------------+\n",
            "only showing top 20 rows\n",
            "\n"
          ]
        }
      ]
    },
    {
      "cell_type": "code",
      "source": [
        "data.toPandas().to_csv('final_data.csv',index=False)"
      ],
      "metadata": {
        "id": "TxlqXLh_vEYQ"
      },
      "execution_count": 22,
      "outputs": []
    },
    {
      "cell_type": "code",
      "source": [
        "pd.read_csv(\"/content/final_data.csv\").head()"
      ],
      "metadata": {
        "colab": {
          "base_uri": "https://localhost:8080/",
          "height": 337
        },
        "id": "q0Ffkmd_gZP5",
        "outputId": "dadab5d6-9acd-4195-9a86-54a4f61cb23f"
      },
      "execution_count": 23,
      "outputs": [
        {
          "output_type": "execute_result",
          "data": {
            "text/plain": [
              "      id                                       tweetCleaned  \\\n",
              "0  31963  #studiolife #aislife #requires #passion #dedic...   \n",
              "1  31964  #white #supremacists want everyone see new â...   \n",
              "2  31965  safe ways heal #acne!! #altwaystoheal #healthy...   \n",
              "3  31966  hp cursed child book reservations already? yes...   \n",
              "4  31967  3rd #bihday amazing, hilarious #nephew eli ahm...   \n",
              "\n",
              "                                           WordCount mostRepeatedWord  \n",
              "0  {#willpower=1, find=1, #passion=1, #requires=1...      #studiolife  \n",
              "1  {#movie=1, new=1, #white=1, see=1, â=1, ever...           #white  \n",
              "2  {ways=1, #healing!!=1, heal=1, safe=1, #acne!!...             safe  \n",
              "3  {#harrypotter=1, where?=1, ððð=1, #fa...               hp  \n",
              "4  {ahmir!=1, missesâ¦=1, dave=1, eli=1, #bihday...              3rd  "
            ],
            "text/html": [
              "\n",
              "  <div id=\"df-8e150d8d-7f6b-43bf-a759-cf48d579fd7a\">\n",
              "    <div class=\"colab-df-container\">\n",
              "      <div>\n",
              "<style scoped>\n",
              "    .dataframe tbody tr th:only-of-type {\n",
              "        vertical-align: middle;\n",
              "    }\n",
              "\n",
              "    .dataframe tbody tr th {\n",
              "        vertical-align: top;\n",
              "    }\n",
              "\n",
              "    .dataframe thead th {\n",
              "        text-align: right;\n",
              "    }\n",
              "</style>\n",
              "<table border=\"1\" class=\"dataframe\">\n",
              "  <thead>\n",
              "    <tr style=\"text-align: right;\">\n",
              "      <th></th>\n",
              "      <th>id</th>\n",
              "      <th>tweetCleaned</th>\n",
              "      <th>WordCount</th>\n",
              "      <th>mostRepeatedWord</th>\n",
              "    </tr>\n",
              "  </thead>\n",
              "  <tbody>\n",
              "    <tr>\n",
              "      <th>0</th>\n",
              "      <td>31963</td>\n",
              "      <td>#studiolife #aislife #requires #passion #dedic...</td>\n",
              "      <td>{#willpower=1, find=1, #passion=1, #requires=1...</td>\n",
              "      <td>#studiolife</td>\n",
              "    </tr>\n",
              "    <tr>\n",
              "      <th>1</th>\n",
              "      <td>31964</td>\n",
              "      <td>#white #supremacists want everyone see new â...</td>\n",
              "      <td>{#movie=1, new=1, #white=1, see=1, â=1, ever...</td>\n",
              "      <td>#white</td>\n",
              "    </tr>\n",
              "    <tr>\n",
              "      <th>2</th>\n",
              "      <td>31965</td>\n",
              "      <td>safe ways heal #acne!! #altwaystoheal #healthy...</td>\n",
              "      <td>{ways=1, #healing!!=1, heal=1, safe=1, #acne!!...</td>\n",
              "      <td>safe</td>\n",
              "    </tr>\n",
              "    <tr>\n",
              "      <th>3</th>\n",
              "      <td>31966</td>\n",
              "      <td>hp cursed child book reservations already? yes...</td>\n",
              "      <td>{#harrypotter=1, where?=1, ððð=1, #fa...</td>\n",
              "      <td>hp</td>\n",
              "    </tr>\n",
              "    <tr>\n",
              "      <th>4</th>\n",
              "      <td>31967</td>\n",
              "      <td>3rd #bihday amazing, hilarious #nephew eli ahm...</td>\n",
              "      <td>{ahmir!=1, missesâ¦=1, dave=1, eli=1, #bihday...</td>\n",
              "      <td>3rd</td>\n",
              "    </tr>\n",
              "  </tbody>\n",
              "</table>\n",
              "</div>\n",
              "      <button class=\"colab-df-convert\" onclick=\"convertToInteractive('df-8e150d8d-7f6b-43bf-a759-cf48d579fd7a')\"\n",
              "              title=\"Convert this dataframe to an interactive table.\"\n",
              "              style=\"display:none;\">\n",
              "        \n",
              "  <svg xmlns=\"http://www.w3.org/2000/svg\" height=\"24px\"viewBox=\"0 0 24 24\"\n",
              "       width=\"24px\">\n",
              "    <path d=\"M0 0h24v24H0V0z\" fill=\"none\"/>\n",
              "    <path d=\"M18.56 5.44l.94 2.06.94-2.06 2.06-.94-2.06-.94-.94-2.06-.94 2.06-2.06.94zm-11 1L8.5 8.5l.94-2.06 2.06-.94-2.06-.94L8.5 2.5l-.94 2.06-2.06.94zm10 10l.94 2.06.94-2.06 2.06-.94-2.06-.94-.94-2.06-.94 2.06-2.06.94z\"/><path d=\"M17.41 7.96l-1.37-1.37c-.4-.4-.92-.59-1.43-.59-.52 0-1.04.2-1.43.59L10.3 9.45l-7.72 7.72c-.78.78-.78 2.05 0 2.83L4 21.41c.39.39.9.59 1.41.59.51 0 1.02-.2 1.41-.59l7.78-7.78 2.81-2.81c.8-.78.8-2.07 0-2.86zM5.41 20L4 18.59l7.72-7.72 1.47 1.35L5.41 20z\"/>\n",
              "  </svg>\n",
              "      </button>\n",
              "      \n",
              "  <style>\n",
              "    .colab-df-container {\n",
              "      display:flex;\n",
              "      flex-wrap:wrap;\n",
              "      gap: 12px;\n",
              "    }\n",
              "\n",
              "    .colab-df-convert {\n",
              "      background-color: #E8F0FE;\n",
              "      border: none;\n",
              "      border-radius: 50%;\n",
              "      cursor: pointer;\n",
              "      display: none;\n",
              "      fill: #1967D2;\n",
              "      height: 32px;\n",
              "      padding: 0 0 0 0;\n",
              "      width: 32px;\n",
              "    }\n",
              "\n",
              "    .colab-df-convert:hover {\n",
              "      background-color: #E2EBFA;\n",
              "      box-shadow: 0px 1px 2px rgba(60, 64, 67, 0.3), 0px 1px 3px 1px rgba(60, 64, 67, 0.15);\n",
              "      fill: #174EA6;\n",
              "    }\n",
              "\n",
              "    [theme=dark] .colab-df-convert {\n",
              "      background-color: #3B4455;\n",
              "      fill: #D2E3FC;\n",
              "    }\n",
              "\n",
              "    [theme=dark] .colab-df-convert:hover {\n",
              "      background-color: #434B5C;\n",
              "      box-shadow: 0px 1px 3px 1px rgba(0, 0, 0, 0.15);\n",
              "      filter: drop-shadow(0px 1px 2px rgba(0, 0, 0, 0.3));\n",
              "      fill: #FFFFFF;\n",
              "    }\n",
              "  </style>\n",
              "\n",
              "      <script>\n",
              "        const buttonEl =\n",
              "          document.querySelector('#df-8e150d8d-7f6b-43bf-a759-cf48d579fd7a button.colab-df-convert');\n",
              "        buttonEl.style.display =\n",
              "          google.colab.kernel.accessAllowed ? 'block' : 'none';\n",
              "\n",
              "        async function convertToInteractive(key) {\n",
              "          const element = document.querySelector('#df-8e150d8d-7f6b-43bf-a759-cf48d579fd7a');\n",
              "          const dataTable =\n",
              "            await google.colab.kernel.invokeFunction('convertToInteractive',\n",
              "                                                     [key], {});\n",
              "          if (!dataTable) return;\n",
              "\n",
              "          const docLinkHtml = 'Like what you see? Visit the ' +\n",
              "            '<a target=\"_blank\" href=https://colab.research.google.com/notebooks/data_table.ipynb>data table notebook</a>'\n",
              "            + ' to learn more about interactive tables.';\n",
              "          element.innerHTML = '';\n",
              "          dataTable['output_type'] = 'display_data';\n",
              "          await google.colab.output.renderOutput(dataTable, element);\n",
              "          const docLink = document.createElement('div');\n",
              "          docLink.innerHTML = docLinkHtml;\n",
              "          element.appendChild(docLink);\n",
              "        }\n",
              "      </script>\n",
              "    </div>\n",
              "  </div>\n",
              "  "
            ]
          },
          "metadata": {},
          "execution_count": 23
        }
      ]
    },
    {
      "cell_type": "markdown",
      "source": [
        "# Kmeans Using Pyspark\n",
        "https://spark.apache.org/docs/latest/api/python/reference/api/pyspark.ml.clustering.KMeans.html"
      ],
      "metadata": {
        "id": "hCSjWgyg2tvJ"
      }
    },
    {
      "cell_type": "code",
      "source": [
        "from pyspark.ml.clustering import KMeans\n",
        "from pyspark.ml.evaluation import ClusteringEvaluator\n",
        "from pyspark.ml.linalg import Vectors\n",
        "import pandas as pd\n",
        "import numpy as np\n",
        "import matplotlib.pyplot as plt\n",
        "from mpl_toolkits.mplot3d import Axes3D"
      ],
      "metadata": {
        "id": "gqpzOLSd2vz6"
      },
      "execution_count": 24,
      "outputs": []
    },
    {
      "cell_type": "markdown",
      "source": [
        "The dataset consists of information about customers Visiting a mall \n",
        "- problem: Cluster customers into segments"
      ],
      "metadata": {
        "id": "5qoi7u0ngrnq"
      }
    },
    {
      "cell_type": "code",
      "source": [
        "df = spark.read.csv('/content/customer_segments.csv', header=True)\n",
        "df.show()"
      ],
      "metadata": {
        "colab": {
          "base_uri": "https://localhost:8080/"
        },
        "id": "sBomOGhei0ru",
        "outputId": "d814a692-4563-4ec8-e4c1-d16b59fe23cc"
      },
      "execution_count": 25,
      "outputs": [
        {
          "output_type": "stream",
          "name": "stdout",
          "text": [
            "+---+---+------------------+----------------------+\n",
            "| id|Age|Annual Income (k$)|Spending Score (1-100)|\n",
            "+---+---+------------------+----------------------+\n",
            "|  1| 19|                15|                    39|\n",
            "|  2| 21|                15|                    81|\n",
            "|  3| 20|                16|                     6|\n",
            "|  4| 23|                16|                    77|\n",
            "|  5| 31|                17|                    40|\n",
            "|  6| 22|                17|                    76|\n",
            "|  7| 35|                18|                     6|\n",
            "|  8| 23|                18|                    94|\n",
            "|  9| 64|                19|                     3|\n",
            "| 10| 30|                19|                    72|\n",
            "| 11| 67|                19|                    14|\n",
            "| 12| 35|                19|                    99|\n",
            "| 13| 58|                20|                    15|\n",
            "| 14| 24|                20|                    77|\n",
            "| 15| 37|                20|                    13|\n",
            "| 16| 22|                20|                    79|\n",
            "| 17| 35|                21|                    35|\n",
            "| 18| 20|                21|                    66|\n",
            "| 19| 52|                23|                    29|\n",
            "| 20| 35|                23|                    98|\n",
            "+---+---+------------------+----------------------+\n",
            "only showing top 20 rows\n",
            "\n"
          ]
        }
      ]
    },
    {
      "cell_type": "markdown",
      "source": [
        "Spark's implementation of KMeans is a bit different from for example scikit-learn's version. We need to store all features as an array of floats, and store this array as a column called \"features\". Since we do no longer need the original columns we filter them out with a select statement.\n",
        "- \"features\" column: Vector of your dataset features"
      ],
      "metadata": {
        "id": "3s4RgRs-B_S-"
      }
    },
    {
      "cell_type": "markdown",
      "source": [
        "First cast columns datatypes to be float"
      ],
      "metadata": {
        "id": "rZ1fOwqtnOdI"
      }
    },
    {
      "cell_type": "code",
      "source": [
        "FEATURES_COL = ['Age','Annual Income (k$)','Spending Score (1-100)']"
      ],
      "metadata": {
        "id": "0YlJQjL9ik6J"
      },
      "execution_count": 26,
      "outputs": []
    },
    {
      "cell_type": "code",
      "source": [
        "for col in df.columns:\n",
        "  if col in FEATURES_COL:\n",
        "    df = df.withColumn(col,df[col].cast('float'))\n",
        "df.show()"
      ],
      "metadata": {
        "colab": {
          "base_uri": "https://localhost:8080/"
        },
        "id": "myI_QXr6p0h4",
        "outputId": "63b98b2e-f951-4d2e-ae62-8c066c14729f"
      },
      "execution_count": 27,
      "outputs": [
        {
          "output_type": "stream",
          "name": "stdout",
          "text": [
            "+---+----+------------------+----------------------+\n",
            "| id| Age|Annual Income (k$)|Spending Score (1-100)|\n",
            "+---+----+------------------+----------------------+\n",
            "|  1|19.0|              15.0|                  39.0|\n",
            "|  2|21.0|              15.0|                  81.0|\n",
            "|  3|20.0|              16.0|                   6.0|\n",
            "|  4|23.0|              16.0|                  77.0|\n",
            "|  5|31.0|              17.0|                  40.0|\n",
            "|  6|22.0|              17.0|                  76.0|\n",
            "|  7|35.0|              18.0|                   6.0|\n",
            "|  8|23.0|              18.0|                  94.0|\n",
            "|  9|64.0|              19.0|                   3.0|\n",
            "| 10|30.0|              19.0|                  72.0|\n",
            "| 11|67.0|              19.0|                  14.0|\n",
            "| 12|35.0|              19.0|                  99.0|\n",
            "| 13|58.0|              20.0|                  15.0|\n",
            "| 14|24.0|              20.0|                  77.0|\n",
            "| 15|37.0|              20.0|                  13.0|\n",
            "| 16|22.0|              20.0|                  79.0|\n",
            "| 17|35.0|              21.0|                  35.0|\n",
            "| 18|20.0|              21.0|                  66.0|\n",
            "| 19|52.0|              23.0|                  29.0|\n",
            "| 20|35.0|              23.0|                  98.0|\n",
            "+---+----+------------------+----------------------+\n",
            "only showing top 20 rows\n",
            "\n"
          ]
        }
      ]
    },
    {
      "cell_type": "markdown",
      "source": [
        "**Now Create a features column**"
      ],
      "metadata": {
        "id": "3VM4pA4osrRh"
      }
    },
    {
      "cell_type": "code",
      "source": [
        "Feautes_Assembler = VectorAssembler(inputCols=FEATURES_COL, outputCol=\"features\")\n",
        "df_kmeans = Feautes_Assembler.transform(df).select(\"id\",'features')\n",
        "df_kmeans.show()"
      ],
      "metadata": {
        "colab": {
          "base_uri": "https://localhost:8080/"
        },
        "id": "e4nRBuh4kKk1",
        "outputId": "cbd2a3d0-68cc-4f5f-fef7-266d32d3cc76"
      },
      "execution_count": 28,
      "outputs": [
        {
          "output_type": "stream",
          "name": "stdout",
          "text": [
            "+---+----------------+\n",
            "| id|        features|\n",
            "+---+----------------+\n",
            "|  1|[19.0,15.0,39.0]|\n",
            "|  2|[21.0,15.0,81.0]|\n",
            "|  3| [20.0,16.0,6.0]|\n",
            "|  4|[23.0,16.0,77.0]|\n",
            "|  5|[31.0,17.0,40.0]|\n",
            "|  6|[22.0,17.0,76.0]|\n",
            "|  7| [35.0,18.0,6.0]|\n",
            "|  8|[23.0,18.0,94.0]|\n",
            "|  9| [64.0,19.0,3.0]|\n",
            "| 10|[30.0,19.0,72.0]|\n",
            "| 11|[67.0,19.0,14.0]|\n",
            "| 12|[35.0,19.0,99.0]|\n",
            "| 13|[58.0,20.0,15.0]|\n",
            "| 14|[24.0,20.0,77.0]|\n",
            "| 15|[37.0,20.0,13.0]|\n",
            "| 16|[22.0,20.0,79.0]|\n",
            "| 17|[35.0,21.0,35.0]|\n",
            "| 18|[20.0,21.0,66.0]|\n",
            "| 19|[52.0,23.0,29.0]|\n",
            "| 20|[35.0,23.0,98.0]|\n",
            "+---+----------------+\n",
            "only showing top 20 rows\n",
            "\n"
          ]
        }
      ]
    },
    {
      "cell_type": "markdown",
      "source": [
        "**Train The model**"
      ],
      "metadata": {
        "id": "OM-TCMPns6gz"
      }
    },
    {
      "cell_type": "code",
      "source": [
        "kmeans = KMeans().setK(6).setSeed(1).setMaxIter(500).setFeaturesCol(\"features\")\n",
        "model = kmeans.fit(df_kmeans)"
      ],
      "metadata": {
        "id": "dBFKlBJKmT6Q"
      },
      "execution_count": 29,
      "outputs": []
    },
    {
      "cell_type": "code",
      "source": [
        "predictions = model.transform(df_kmeans)"
      ],
      "metadata": {
        "id": "KDixFTxi84p7"
      },
      "execution_count": 30,
      "outputs": []
    },
    {
      "cell_type": "code",
      "source": [
        "predictions.show()"
      ],
      "metadata": {
        "colab": {
          "base_uri": "https://localhost:8080/"
        },
        "id": "MAwdIhag8-J6",
        "outputId": "4be0c95c-0a4e-4c40-dd20-4338df4a2eea"
      },
      "execution_count": 31,
      "outputs": [
        {
          "output_type": "stream",
          "name": "stdout",
          "text": [
            "+---+----------------+----------+\n",
            "| id|        features|prediction|\n",
            "+---+----------------+----------+\n",
            "|  1|[19.0,15.0,39.0]|         5|\n",
            "|  2|[21.0,15.0,81.0]|         2|\n",
            "|  3| [20.0,16.0,6.0]|         5|\n",
            "|  4|[23.0,16.0,77.0]|         2|\n",
            "|  5|[31.0,17.0,40.0]|         5|\n",
            "|  6|[22.0,17.0,76.0]|         2|\n",
            "|  7| [35.0,18.0,6.0]|         5|\n",
            "|  8|[23.0,18.0,94.0]|         2|\n",
            "|  9| [64.0,19.0,3.0]|         5|\n",
            "| 10|[30.0,19.0,72.0]|         2|\n",
            "| 11|[67.0,19.0,14.0]|         5|\n",
            "| 12|[35.0,19.0,99.0]|         2|\n",
            "| 13|[58.0,20.0,15.0]|         5|\n",
            "| 14|[24.0,20.0,77.0]|         2|\n",
            "| 15|[37.0,20.0,13.0]|         5|\n",
            "| 16|[22.0,20.0,79.0]|         2|\n",
            "| 17|[35.0,21.0,35.0]|         5|\n",
            "| 18|[20.0,21.0,66.0]|         2|\n",
            "| 19|[52.0,23.0,29.0]|         5|\n",
            "| 20|[35.0,23.0,98.0]|         2|\n",
            "+---+----------------+----------+\n",
            "only showing top 20 rows\n",
            "\n"
          ]
        }
      ]
    },
    {
      "cell_type": "markdown",
      "source": [
        "**Evaluate The model**"
      ],
      "metadata": {
        "id": "cAUHmPxdtACl"
      }
    },
    {
      "cell_type": "code",
      "source": [
        "evaluator = ClusteringEvaluator()\n",
        "\n",
        "silhouette = evaluator.evaluate(predictions)\n",
        "print(\"Silhouette with squared euclidean distance = \" + str(silhouette))\n",
        "\n",
        "# Shows the result.\n",
        "centers = model.clusterCenters()\n",
        "print(\"Cluster Centers: \")\n",
        "for center in centers:\n",
        "    print(center)"
      ],
      "metadata": {
        "colab": {
          "base_uri": "https://localhost:8080/"
        },
        "id": "tyTjVlY69F0v",
        "outputId": "6141f52f-99f3-4b84-8d1d-0bcbf65b2a16"
      },
      "execution_count": 32,
      "outputs": [
        {
          "output_type": "stream",
          "name": "stdout",
          "text": [
            "Silhouette with squared euclidean distance = 0.5978076670991005\n",
            "Cluster Centers: \n",
            "[43.28571429 54.81818182 49.88311688]\n",
            "[32.69230769 86.53846154 82.12820513]\n",
            "[25.52173913 26.30434783 78.56521739]\n",
            "[ 42.63636364 108.18181818  21.27272727]\n",
            "[39.48148148 78.37037037 17.55555556]\n",
            "[45.2173913  26.30434783 20.91304348]\n"
          ]
        }
      ]
    },
    {
      "cell_type": "code",
      "source": [
        "predictions_df = predictions.select(\"id\", \"prediction\")"
      ],
      "metadata": {
        "id": "ODNTJMIwAXou"
      },
      "execution_count": 33,
      "outputs": []
    },
    {
      "cell_type": "code",
      "source": [
        "predictions_df.show(5)"
      ],
      "metadata": {
        "colab": {
          "base_uri": "https://localhost:8080/"
        },
        "id": "flYhuPSwpg79",
        "outputId": "1a95d8b3-9838-40ab-cada-60ce1845c0f8"
      },
      "execution_count": 34,
      "outputs": [
        {
          "output_type": "stream",
          "name": "stdout",
          "text": [
            "+---+----------+\n",
            "| id|prediction|\n",
            "+---+----------+\n",
            "|  1|         5|\n",
            "|  2|         2|\n",
            "|  3|         5|\n",
            "|  4|         2|\n",
            "|  5|         5|\n",
            "+---+----------+\n",
            "only showing top 5 rows\n",
            "\n"
          ]
        }
      ]
    },
    {
      "cell_type": "markdown",
      "source": [
        "**Join the prediction column with the your original data using the id column**"
      ],
      "metadata": {
        "id": "2TeQGr98tK-q"
      }
    },
    {
      "cell_type": "code",
      "source": [
        "df_final_preds = predictions_df.join(df, 'id')\n",
        "df_final_preds.show()"
      ],
      "metadata": {
        "colab": {
          "base_uri": "https://localhost:8080/"
        },
        "id": "MIZDaWL0pAAP",
        "outputId": "02805d36-4b08-42ff-a9a7-433bad4213d5"
      },
      "execution_count": 35,
      "outputs": [
        {
          "output_type": "stream",
          "name": "stdout",
          "text": [
            "+---+----------+----+------------------+----------------------+\n",
            "| id|prediction| Age|Annual Income (k$)|Spending Score (1-100)|\n",
            "+---+----------+----+------------------+----------------------+\n",
            "|  1|         5|19.0|              15.0|                  39.0|\n",
            "|  2|         2|21.0|              15.0|                  81.0|\n",
            "|  3|         5|20.0|              16.0|                   6.0|\n",
            "|  4|         2|23.0|              16.0|                  77.0|\n",
            "|  5|         5|31.0|              17.0|                  40.0|\n",
            "|  6|         2|22.0|              17.0|                  76.0|\n",
            "|  7|         5|35.0|              18.0|                   6.0|\n",
            "|  8|         2|23.0|              18.0|                  94.0|\n",
            "|  9|         5|64.0|              19.0|                   3.0|\n",
            "| 10|         2|30.0|              19.0|                  72.0|\n",
            "| 11|         5|67.0|              19.0|                  14.0|\n",
            "| 12|         2|35.0|              19.0|                  99.0|\n",
            "| 13|         5|58.0|              20.0|                  15.0|\n",
            "| 14|         2|24.0|              20.0|                  77.0|\n",
            "| 15|         5|37.0|              20.0|                  13.0|\n",
            "| 16|         2|22.0|              20.0|                  79.0|\n",
            "| 17|         5|35.0|              21.0|                  35.0|\n",
            "| 18|         2|20.0|              21.0|                  66.0|\n",
            "| 19|         5|52.0|              23.0|                  29.0|\n",
            "| 20|         2|35.0|              23.0|                  98.0|\n",
            "+---+----------+----+------------------+----------------------+\n",
            "only showing top 20 rows\n",
            "\n"
          ]
        }
      ]
    },
    {
      "cell_type": "markdown",
      "source": [
        "**Convert it to pandas df**"
      ],
      "metadata": {
        "id": "iY1vf5lWtX9J"
      }
    },
    {
      "cell_type": "code",
      "source": [
        "preds = df_final_preds.toPandas().set_index('id')\n",
        "preds.head()"
      ],
      "metadata": {
        "colab": {
          "base_uri": "https://localhost:8080/",
          "height": 237
        },
        "id": "kHdFZkmXrzrX",
        "outputId": "dca7286a-1ae0-4589-a49e-71834a08fda2"
      },
      "execution_count": 36,
      "outputs": [
        {
          "output_type": "execute_result",
          "data": {
            "text/plain": [
              "    prediction   Age  Annual Income (k$)  Spending Score (1-100)\n",
              "id                                                              \n",
              "1            5  19.0                15.0                    39.0\n",
              "2            2  21.0                15.0                    81.0\n",
              "3            5  20.0                16.0                     6.0\n",
              "4            2  23.0                16.0                    77.0\n",
              "5            5  31.0                17.0                    40.0"
            ],
            "text/html": [
              "\n",
              "  <div id=\"df-b9825c39-0676-4fe7-8900-7744b9d320c1\">\n",
              "    <div class=\"colab-df-container\">\n",
              "      <div>\n",
              "<style scoped>\n",
              "    .dataframe tbody tr th:only-of-type {\n",
              "        vertical-align: middle;\n",
              "    }\n",
              "\n",
              "    .dataframe tbody tr th {\n",
              "        vertical-align: top;\n",
              "    }\n",
              "\n",
              "    .dataframe thead th {\n",
              "        text-align: right;\n",
              "    }\n",
              "</style>\n",
              "<table border=\"1\" class=\"dataframe\">\n",
              "  <thead>\n",
              "    <tr style=\"text-align: right;\">\n",
              "      <th></th>\n",
              "      <th>prediction</th>\n",
              "      <th>Age</th>\n",
              "      <th>Annual Income (k$)</th>\n",
              "      <th>Spending Score (1-100)</th>\n",
              "    </tr>\n",
              "    <tr>\n",
              "      <th>id</th>\n",
              "      <th></th>\n",
              "      <th></th>\n",
              "      <th></th>\n",
              "      <th></th>\n",
              "    </tr>\n",
              "  </thead>\n",
              "  <tbody>\n",
              "    <tr>\n",
              "      <th>1</th>\n",
              "      <td>5</td>\n",
              "      <td>19.0</td>\n",
              "      <td>15.0</td>\n",
              "      <td>39.0</td>\n",
              "    </tr>\n",
              "    <tr>\n",
              "      <th>2</th>\n",
              "      <td>2</td>\n",
              "      <td>21.0</td>\n",
              "      <td>15.0</td>\n",
              "      <td>81.0</td>\n",
              "    </tr>\n",
              "    <tr>\n",
              "      <th>3</th>\n",
              "      <td>5</td>\n",
              "      <td>20.0</td>\n",
              "      <td>16.0</td>\n",
              "      <td>6.0</td>\n",
              "    </tr>\n",
              "    <tr>\n",
              "      <th>4</th>\n",
              "      <td>2</td>\n",
              "      <td>23.0</td>\n",
              "      <td>16.0</td>\n",
              "      <td>77.0</td>\n",
              "    </tr>\n",
              "    <tr>\n",
              "      <th>5</th>\n",
              "      <td>5</td>\n",
              "      <td>31.0</td>\n",
              "      <td>17.0</td>\n",
              "      <td>40.0</td>\n",
              "    </tr>\n",
              "  </tbody>\n",
              "</table>\n",
              "</div>\n",
              "      <button class=\"colab-df-convert\" onclick=\"convertToInteractive('df-b9825c39-0676-4fe7-8900-7744b9d320c1')\"\n",
              "              title=\"Convert this dataframe to an interactive table.\"\n",
              "              style=\"display:none;\">\n",
              "        \n",
              "  <svg xmlns=\"http://www.w3.org/2000/svg\" height=\"24px\"viewBox=\"0 0 24 24\"\n",
              "       width=\"24px\">\n",
              "    <path d=\"M0 0h24v24H0V0z\" fill=\"none\"/>\n",
              "    <path d=\"M18.56 5.44l.94 2.06.94-2.06 2.06-.94-2.06-.94-.94-2.06-.94 2.06-2.06.94zm-11 1L8.5 8.5l.94-2.06 2.06-.94-2.06-.94L8.5 2.5l-.94 2.06-2.06.94zm10 10l.94 2.06.94-2.06 2.06-.94-2.06-.94-.94-2.06-.94 2.06-2.06.94z\"/><path d=\"M17.41 7.96l-1.37-1.37c-.4-.4-.92-.59-1.43-.59-.52 0-1.04.2-1.43.59L10.3 9.45l-7.72 7.72c-.78.78-.78 2.05 0 2.83L4 21.41c.39.39.9.59 1.41.59.51 0 1.02-.2 1.41-.59l7.78-7.78 2.81-2.81c.8-.78.8-2.07 0-2.86zM5.41 20L4 18.59l7.72-7.72 1.47 1.35L5.41 20z\"/>\n",
              "  </svg>\n",
              "      </button>\n",
              "      \n",
              "  <style>\n",
              "    .colab-df-container {\n",
              "      display:flex;\n",
              "      flex-wrap:wrap;\n",
              "      gap: 12px;\n",
              "    }\n",
              "\n",
              "    .colab-df-convert {\n",
              "      background-color: #E8F0FE;\n",
              "      border: none;\n",
              "      border-radius: 50%;\n",
              "      cursor: pointer;\n",
              "      display: none;\n",
              "      fill: #1967D2;\n",
              "      height: 32px;\n",
              "      padding: 0 0 0 0;\n",
              "      width: 32px;\n",
              "    }\n",
              "\n",
              "    .colab-df-convert:hover {\n",
              "      background-color: #E2EBFA;\n",
              "      box-shadow: 0px 1px 2px rgba(60, 64, 67, 0.3), 0px 1px 3px 1px rgba(60, 64, 67, 0.15);\n",
              "      fill: #174EA6;\n",
              "    }\n",
              "\n",
              "    [theme=dark] .colab-df-convert {\n",
              "      background-color: #3B4455;\n",
              "      fill: #D2E3FC;\n",
              "    }\n",
              "\n",
              "    [theme=dark] .colab-df-convert:hover {\n",
              "      background-color: #434B5C;\n",
              "      box-shadow: 0px 1px 3px 1px rgba(0, 0, 0, 0.15);\n",
              "      filter: drop-shadow(0px 1px 2px rgba(0, 0, 0, 0.3));\n",
              "      fill: #FFFFFF;\n",
              "    }\n",
              "  </style>\n",
              "\n",
              "      <script>\n",
              "        const buttonEl =\n",
              "          document.querySelector('#df-b9825c39-0676-4fe7-8900-7744b9d320c1 button.colab-df-convert');\n",
              "        buttonEl.style.display =\n",
              "          google.colab.kernel.accessAllowed ? 'block' : 'none';\n",
              "\n",
              "        async function convertToInteractive(key) {\n",
              "          const element = document.querySelector('#df-b9825c39-0676-4fe7-8900-7744b9d320c1');\n",
              "          const dataTable =\n",
              "            await google.colab.kernel.invokeFunction('convertToInteractive',\n",
              "                                                     [key], {});\n",
              "          if (!dataTable) return;\n",
              "\n",
              "          const docLinkHtml = 'Like what you see? Visit the ' +\n",
              "            '<a target=\"_blank\" href=https://colab.research.google.com/notebooks/data_table.ipynb>data table notebook</a>'\n",
              "            + ' to learn more about interactive tables.';\n",
              "          element.innerHTML = '';\n",
              "          dataTable['output_type'] = 'display_data';\n",
              "          await google.colab.output.renderOutput(dataTable, element);\n",
              "          const docLink = document.createElement('div');\n",
              "          docLink.innerHTML = docLinkHtml;\n",
              "          element.appendChild(docLink);\n",
              "        }\n",
              "      </script>\n",
              "    </div>\n",
              "  </div>\n",
              "  "
            ]
          },
          "metadata": {},
          "execution_count": 36
        }
      ]
    },
    {
      "cell_type": "markdown",
      "source": [
        "**Visualize Final Clusters**"
      ],
      "metadata": {
        "id": "ZWKJ1Eljt_SF"
      }
    },
    {
      "cell_type": "code",
      "source": [
        "cluster_fig = plt.figure(figsize=(12,10)).gca(projection='3d')\n",
        "cluster_fig.scatter(preds['Age'],preds['Annual Income (k$)'],preds['Spending Score (1-100)'], c=preds['prediction'])\n",
        "cluster_fig.set_xlabel('Age')\n",
        "cluster_fig.set_ylabel('Income')\n",
        "cluster_fig.set_zlabel('Spending')\n",
        "plt.show()"
      ],
      "metadata": {
        "colab": {
          "base_uri": "https://localhost:8080/",
          "height": 575
        },
        "id": "Zj85sCB7rEZR",
        "outputId": "26b1c47f-2bd7-4c23-c42d-4b142a72a45c"
      },
      "execution_count": 37,
      "outputs": [
        {
          "output_type": "display_data",
          "data": {
            "text/plain": [
              "<Figure size 864x720 with 1 Axes>"
            ],
            "image/png": "[encoded data removed]"
          },
          "metadata": {
            "needs_background": "light"
          }
        }
      ]
    }
  ]
}