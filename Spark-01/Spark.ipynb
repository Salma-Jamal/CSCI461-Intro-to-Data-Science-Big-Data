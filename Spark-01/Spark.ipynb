{
  "cells": [
    {
      "cell_type": "markdown",
      "metadata": {
        "id": "au1-2fyqzWCc"
      },
      "source": [
        "# Data processing with Apache Spark\n",
        "### Student ID: []\n",
        "### Student Name: []"
      ]
    },
    {
      "cell_type": "markdown",
      "metadata": {
        "id": "LNp4xz7OzWCr"
      },
      "source": [
        "### Apache Spark:\n",
        "    Spark is an open source engine for large-scale data processing. Spark applications can be written by Scala, Python or java.\n",
        " <img src=\"https://spark.apache.org/images/spark-logo-trademark.png\">"
      ]
    },
    {
      "cell_type": "markdown",
      "metadata": {
        "id": "nOsIbT_zzWCt"
      },
      "source": [
        "### Spark Basics:\n",
        "The fundamental data unit in Spark is RDD (resilient distributed dataset):\n",
        "- Spark core component.\n",
        "- The Data structure that they use to store data in memory not in disk.\n",
        "- It is like a distributed Array.\n",
        "\n",
        "<img src=\"https://i0.wp.com/sparkbyexamples.com/wp-content/uploads/2020/08/rdd-creation.png?resize=1024%2C635&ssl=1\">\n",
        "\n",
        "- Resilient: Fault tolerant and can be recomputed when recovering from a failure\n",
        "- Distributed: Processing takes place over several nodes in parallel.\n",
        "- Dataset: Initial data can come from files, memory, or created programmatically\n",
        "\n",
        "### Spark applications:\n",
        "Are series of operations that transform input RDDs into output RDDs or final values"
      ]
    },
    {
      "cell_type": "markdown",
      "metadata": {
        "id": "Q8DhqOGazWCw"
      },
      "source": [
        "# Tasks\n",
        "## Task 1: Building and submitting the first Spark application (words count):\n",
        "In this example we are going to read the text in a given file and count the number of words in the input text.\n",
        "- SparkContext: It's like the connection you make with the cluster or the link to submit a job\n",
        "- SparkConf: specify your configurations for spark Context"
      ]
    },
    {
      "cell_type": "code",
      "execution_count": null,
      "metadata": {
        "id": "lkp18RtvzWCy"
      },
      "outputs": [],
      "source": [
        "from pyspark import SparkContext, SparkConf"
      ]
    },
    {
      "cell_type": "code",
      "execution_count": null,
      "metadata": {
        "id": "vSNxkaZZzWC2"
      },
      "outputs": [],
      "source": [
        "conf = SparkConf().setAppName(\"Spark Lab words count Example\")"
      ]
    },
    {
      "cell_type": "code",
      "execution_count": null,
      "metadata": {
        "id": "y5WJQmt2zWC4"
      },
      "outputs": [],
      "source": [
        "sc = SparkContext(conf=conf)"
      ]
    },
    {
      "cell_type": "code",
      "execution_count": null,
      "metadata": {
        "id": "Sy3FiMrtzWC7"
      },
      "outputs": [],
      "source": [
        "lines = sc.textFile(\"/home/bitnami/Labs/Lab2/Data/AliceInWonderLandPart1.txt\")\n",
        "tokenized = lines.flatMap(lambda line: line.split(\" \"))"
      ]
    },
    {
      "cell_type": "markdown",
      "metadata": {
        "id": "gjUt6IRXzWC-"
      },
      "source": [
        "<img src=\"http://drive.google.com/uc?export=view&id=1TQgREgyPlZoPw69kl4HcE0xCO1rAaeMP\">"
      ]
    },
    {
      "cell_type": "code",
      "execution_count": null,
      "metadata": {
        "id": "8y82o6GezWDB",
        "outputId": "6dd6c54c-7593-4fad-8eee-400aee62638e"
      },
      "outputs": [
        {
          "data": {
            "text/plain": [
              "['Alice', 'was', 'beginning', 'to', 'get']"
            ]
          },
          "execution_count": 27,
          "metadata": {},
          "output_type": "execute_result"
        }
      ],
      "source": [
        "tokenized.take(5)"
      ]
    },
    {
      "cell_type": "code",
      "execution_count": null,
      "metadata": {
        "id": "QeOZBtdDzWDE"
      },
      "outputs": [],
      "source": [
        "wordCounts = tokenized.map(lambda word: (word, 1)).reduceByKey(lambda v1,v2:v1 +v2)"
      ]
    },
    {
      "cell_type": "code",
      "execution_count": null,
      "metadata": {
        "id": "uHtDYvkOzWDG"
      },
      "outputs": [],
      "source": [
        "list_words = wordCounts.collect()"
      ]
    },
    {
      "cell_type": "code",
      "execution_count": null,
      "metadata": {
        "id": "YaCdOVGazWDH",
        "outputId": "a0a8c2b5-dd12-4ce6-df0b-3c37427c50d1"
      },
      "outputs": [
        {
          "data": {
            "text/plain": [
              "[('', 2), ('out', 3), ('on,', 1), ('was', 5), ('suddenly', 1)]"
            ]
          },
          "execution_count": 30,
          "metadata": {},
          "output_type": "execute_result"
        }
      ],
      "source": [
        "list_words[0:5]"
      ]
    },
    {
      "cell_type": "markdown",
      "metadata": {
        "id": "MByhVVkgzWDJ"
      },
      "source": [
        "## Task 2: \n",
        "Modify the previous example to filter out words that occur less than N times:"
      ]
    },
    {
      "cell_type": "code",
      "execution_count": null,
      "metadata": {
        "id": "MQSJdxDjzWDK",
        "outputId": "6ae261db-9094-4313-80e6-b1bbaa9b9021"
      },
      "outputs": [
        {
          "name": "stdout",
          "output_type": "stream",
          "text": [
            "[('of', 8), ('her', 6), ('the', 12), ('it', 6), ('and', 6), ('a', 8), ('to', 7)]\n"
          ]
        }
      ],
      "source": [
        "countThreshold = 5\n",
        "tokenized = lines.flatMap(lambda line: line.split(\" \"))\n",
        "wordCounts = tokenized.map(lambda word: (word, 1)).reduceByKey(lambda v1,v2: v1 + v2)\n",
        "Filtered_words = wordCounts.filter(lambda keyValuePair: keyValuePair[1] > countThreshold ).collect()\n",
        "print(Filtered_words)"
      ]
    },
    {
      "cell_type": "code",
      "execution_count": null,
      "metadata": {
        "id": "r27f_rLpzWDM"
      },
      "outputs": [],
      "source": [
        "sc.stop()"
      ]
    },
    {
      "cell_type": "markdown",
      "metadata": {
        "id": "U6XuH73tzWDN"
      },
      "source": [
        "## Task 3: Modify task #1 so as to return the longest *line*:\n",
        "In this task you will modify the task 1 as well. However, instead of counting the words you will return the longest line among the input lines."
      ]
    },
    {
      "cell_type": "code",
      "execution_count": null,
      "metadata": {
        "id": "STj7vLXOzWDO"
      },
      "outputs": [],
      "source": [
        "# your code here"
      ]
    },
    {
      "cell_type": "markdown",
      "metadata": {
        "id": "oSyUyzJ9zWDP"
      },
      "source": [
        "# Introduction to Spark SQL"
      ]
    },
    {
      "cell_type": "code",
      "execution_count": null,
      "metadata": {
        "id": "-HjYZLJczWDQ"
      },
      "outputs": [],
      "source": [
        "from pyspark.sql import SparkSession"
      ]
    },
    {
      "cell_type": "code",
      "execution_count": null,
      "metadata": {
        "id": "YxpjQfgCzWDS"
      },
      "outputs": [],
      "source": [
        "spark = SparkSession.builder.appName(\"Analyzing London crime data\").getOrCreate()"
      ]
    },
    {
      "cell_type": "markdown",
      "metadata": {
        "id": "hHW6Dfz0zWDS"
      },
      "source": [
        "### Reading external data as a dataframe"
      ]
    },
    {
      "cell_type": "code",
      "execution_count": null,
      "metadata": {
        "id": "__XJ9hPezWDT"
      },
      "outputs": [],
      "source": [
        "data = spark.read.format(\"csv\")\\\n",
        "            .option(\"header\", \"true\")\\\n",
        "            .load(\"london_crime_by_lsoa.csv\")"
      ]
    },
    {
      "cell_type": "code",
      "execution_count": null,
      "metadata": {
        "id": "m1lSWTeDzWDU",
        "outputId": "46c77b8b-0727-4e6c-c8ac-4574dfdb538b"
      },
      "outputs": [
        {
          "name": "stdout",
          "output_type": "stream",
          "text": [
            "root\n",
            " |-- lsoa_code: string (nullable = true)\n",
            " |-- borough: string (nullable = true)\n",
            " |-- major_category: string (nullable = true)\n",
            " |-- minor_category: string (nullable = true)\n",
            " |-- value: string (nullable = true)\n",
            " |-- year: string (nullable = true)\n",
            " |-- month: string (nullable = true)\n",
            "\n"
          ]
        }
      ],
      "source": [
        "data.printSchema()"
      ]
    },
    {
      "cell_type": "markdown",
      "metadata": {
        "id": "E3brBtVpzWDV"
      },
      "source": [
        "### Length of data"
      ]
    },
    {
      "cell_type": "code",
      "execution_count": null,
      "metadata": {
        "id": "wrvxLsrKzWDa",
        "outputId": "0f1f29d6-87eb-4a32-986b-541dcff65150"
      },
      "outputs": [
        {
          "data": {
            "text/plain": [
              "1999"
            ]
          },
          "execution_count": 39,
          "metadata": {},
          "output_type": "execute_result"
        }
      ],
      "source": [
        "data.count()"
      ]
    },
    {
      "cell_type": "markdown",
      "metadata": {
        "id": "M2A8xTcDzWDb"
      },
      "source": [
        "### Show Rows"
      ]
    },
    {
      "cell_type": "code",
      "execution_count": null,
      "metadata": {
        "id": "5Aui3ImRzWDc",
        "outputId": "88d4d0e1-5715-42b4-aae8-d94f06362478"
      },
      "outputs": [
        {
          "name": "stdout",
          "output_type": "stream",
          "text": [
            "+---------+----------+--------------------+--------------------+-----+----+-----+\n",
            "|lsoa_code|   borough|      major_category|      minor_category|value|year|month|\n",
            "+---------+----------+--------------------+--------------------+-----+----+-----+\n",
            "|E01001116|   Croydon|            Burglary|Burglary in Other...|    0|2016|   11|\n",
            "|E01001646| Greenwich|Violence Against ...|      Other violence|    0|2016|   11|\n",
            "|E01000677|   Bromley|Violence Against ...|      Other violence|    0|2015|    5|\n",
            "|E01003774| Redbridge|            Burglary|Burglary in Other...|    0|2016|    3|\n",
            "|E01004563|Wandsworth|             Robbery|   Personal Property|    0|2008|    6|\n",
            "+---------+----------+--------------------+--------------------+-----+----+-----+\n",
            "\n"
          ]
        }
      ],
      "source": [
        "data.limit(5).show()"
      ]
    },
    {
      "cell_type": "markdown",
      "metadata": {
        "id": "_T5WuSbizWDe"
      },
      "source": [
        "#### Cleaning data\n",
        "* Drop rows which have (null) values\n",
        "* Drop columns which we do not use in our analysis(lsoa_code column)"
      ]
    },
    {
      "cell_type": "code",
      "execution_count": null,
      "metadata": {
        "id": "JMAD7b2uzWDe",
        "outputId": "60f5cd03-708d-49a7-916b-bbcd831e5899"
      },
      "outputs": [
        {
          "data": {
            "text/plain": [
              "['lsoa_code',\n",
              " 'borough',\n",
              " 'major_category',\n",
              " 'minor_category',\n",
              " 'value',\n",
              " 'year',\n",
              " 'month']"
            ]
          },
          "execution_count": 43,
          "metadata": {},
          "output_type": "execute_result"
        }
      ],
      "source": [
        "data = data.dropna()\n",
        "data.columns"
      ]
    },
    {
      "cell_type": "code",
      "execution_count": null,
      "metadata": {
        "id": "GtfERMfBzWDf",
        "outputId": "74727706-b6c0-4b90-b4e8-49bc19f492df"
      },
      "outputs": [
        {
          "name": "stdout",
          "output_type": "stream",
          "text": [
            "+----------+--------------------+--------------------+-----+----+-----+\n",
            "|   borough|      major_category|      minor_category|value|year|month|\n",
            "+----------+--------------------+--------------------+-----+----+-----+\n",
            "|   Croydon|            Burglary|Burglary in Other...|    0|2016|   11|\n",
            "| Greenwich|Violence Against ...|      Other violence|    0|2016|   11|\n",
            "|   Bromley|Violence Against ...|      Other violence|    0|2015|    5|\n",
            "| Redbridge|            Burglary|Burglary in Other...|    0|2016|    3|\n",
            "|Wandsworth|             Robbery|   Personal Property|    0|2008|    6|\n",
            "+----------+--------------------+--------------------+-----+----+-----+\n",
            "only showing top 5 rows\n",
            "\n"
          ]
        }
      ],
      "source": [
        "data = data.drop('lsoa_code')\n",
        "data.show(5)"
      ]
    },
    {
      "cell_type": "markdown",
      "metadata": {
        "id": "-zBH1o3szWDh"
      },
      "source": [
        "### Select the unique boroughs we have in borough column"
      ]
    },
    {
      "cell_type": "code",
      "execution_count": null,
      "metadata": {
        "id": "68pR4h-dzWDh",
        "outputId": "1518e1eb-0191-43c3-892a-4105b0a0db35"
      },
      "outputs": [
        {
          "name": "stdout",
          "output_type": "stream",
          "text": [
            "+--------------------+\n",
            "|             borough|\n",
            "+--------------------+\n",
            "|             Croydon|\n",
            "|          Wandsworth|\n",
            "|              Bexley|\n",
            "|             Lambeth|\n",
            "|Barking and Dagenham|\n",
            "|              Camden|\n",
            "|           Greenwich|\n",
            "|              Newham|\n",
            "|       Tower Hamlets|\n",
            "|            Hounslow|\n",
            "|              Barnet|\n",
            "|              Harrow|\n",
            "|Kensington and Ch...|\n",
            "|           Islington|\n",
            "|               Brent|\n",
            "|            Haringey|\n",
            "|             Bromley|\n",
            "|              Merton|\n",
            "|         Westminster|\n",
            "|             Hackney|\n",
            "+--------------------+\n",
            "only showing top 20 rows\n",
            "\n"
          ]
        }
      ],
      "source": [
        "total_boroughs = data.select(\"borough\").distinct()\n",
        "total_boroughs.show()"
      ]
    },
    {
      "cell_type": "markdown",
      "metadata": {
        "id": "MHiOo96CzWDj"
      },
      "source": [
        "### Get all the data related to borough hackney only "
      ]
    },
    {
      "cell_type": "code",
      "execution_count": null,
      "metadata": {
        "id": "HOr1yW88zWDj",
        "outputId": "0cd55cb5-a48a-4425-e9fe-4098b36d0fb8"
      },
      "outputs": [
        {
          "name": "stdout",
          "output_type": "stream",
          "text": [
            "+-------+--------------------+--------------------+-----+----+-----+\n",
            "|borough|      major_category|      minor_category|value|year|month|\n",
            "+-------+--------------------+--------------------+-----+----+-----+\n",
            "|Hackney|     Criminal Damage|Criminal Damage T...|    0|2011|    6|\n",
            "|Hackney|Violence Against ...|          Harassment|    1|2013|    2|\n",
            "|Hackney|     Criminal Damage|Other Criminal Da...|    0|2011|    7|\n",
            "|Hackney|Violence Against ...|        Wounding/GBH|    0|2013|   12|\n",
            "|Hackney|  Theft and Handling|  Other Theft Person|    0|2016|    8|\n",
            "+-------+--------------------+--------------------+-----+----+-----+\n",
            "only showing top 5 rows\n",
            "\n"
          ]
        }
      ],
      "source": [
        "hackney_data = data.filter(data.borough == \"Hackney\")\n",
        "hackney_data.show(5)"
      ]
    },
    {
      "cell_type": "markdown",
      "metadata": {
        "id": "YXvRPSLHzWDk"
      },
      "source": [
        "## Get all the data related to year 2014 and above"
      ]
    },
    {
      "cell_type": "code",
      "execution_count": null,
      "metadata": {
        "id": "06Q0KGEmzWDl"
      },
      "outputs": [],
      "source": [
        "# Your code here\n"
      ]
    },
    {
      "cell_type": "markdown",
      "metadata": {
        "id": "lmwhscSazWDm"
      },
      "source": [
        "### Get all the data related to year 2015 and 2016"
      ]
    },
    {
      "cell_type": "code",
      "execution_count": null,
      "metadata": {
        "id": "znc8g4rjzWDn",
        "outputId": "dd3f7f11-9dee-41c3-b3ac-a061b6d109ba"
      },
      "outputs": [
        {
          "name": "stdout",
          "output_type": "stream",
          "text": [
            "+---------+--------------------+--------------------+-----+----+-----+\n",
            "|  borough|      major_category|      minor_category|value|year|month|\n",
            "+---------+--------------------+--------------------+-----+----+-----+\n",
            "|  Croydon|            Burglary|Burglary in Other...|    0|2016|   11|\n",
            "|Greenwich|Violence Against ...|      Other violence|    0|2016|   11|\n",
            "|  Bromley|Violence Against ...|      Other violence|    0|2015|    5|\n",
            "|Redbridge|            Burglary|Burglary in Other...|    0|2016|    3|\n",
            "|   Sutton|  Theft and Handling|Theft/Taking of P...|    1|2016|    8|\n",
            "+---------+--------------------+--------------------+-----+----+-----+\n",
            "\n"
          ]
        }
      ],
      "source": [
        "data_2015_2016 = data[ (data.year== \"2015\") | (data.year== \"2016\")]\n",
        "data_2015_2016.limit(5).show()"
      ]
    },
    {
      "cell_type": "markdown",
      "metadata": {
        "id": "1Y3oNQW9zWDn"
      },
      "source": [
        "## Using **isin** method"
      ]
    },
    {
      "cell_type": "code",
      "execution_count": null,
      "metadata": {
        "id": "pnFivx5OzWDo"
      },
      "outputs": [],
      "source": [
        "data_2015_2016 = data[# your code here]\n",
        "data_2015_2016.limit(5).show()"
      ]
    }
  ],
  "metadata": {
    "kernelspec": {
      "display_name": "Python 3",
      "language": "python",
      "name": "python3"
    },
    "language_info": {
      "codemirror_mode": {
        "name": "ipython",
        "version": 3
      },
      "file_extension": ".py",
      "mimetype": "text/x-python",
      "name": "python",
      "nbconvert_exporter": "python",
      "pygments_lexer": "ipython3",
      "version": "3.5.3"
    },
    "colab": {
      "name": "Spark_Lab.ipynb",
      "provenance": []
    }
  },
  "nbformat": 4,
  "nbformat_minor": 0
}